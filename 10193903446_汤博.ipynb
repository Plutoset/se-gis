{
 "cells": [
  {
   "source": [
    "## 第一次作业"
   ],
   "cell_type": "markdown",
   "metadata": {}
  },
  {
   "cell_type": "code",
   "execution_count": 1,
   "metadata": {},
   "outputs": [
    {
     "output_type": "stream",
     "name": "stdout",
     "text": [
      "x:13358338.89,y:3503549.84\n"
     ]
    }
   ],
   "source": [
    "from math import *\n",
    "#WGS84经纬度坐标转Web墨卡托投影坐标\n",
    "def WGS84_to_WebM(lon,lat):\n",
    "    r = 20037508.34\n",
    "    x = (lon * r) / 180\n",
    "    y = log(tan(pi/4 + lat * pi /360))* r / pi\n",
    "    return x,y\n",
    "#location是输入信息\n",
    "location = input(\"输入经度和纬度坐标（之间用逗号分隔）：\")\n",
    "#截取lon,lat为经纬度坐标\n",
    "lon, lat = location.split(',')\n",
    "#格式处理\n",
    "lon=eval(lon)\n",
    "lat=eval(lat)\n",
    "#坐标转换\n",
    "x,y=WGS84_to_WebM(lon,lat)\n",
    "#输出坐标\n",
    "print(\"x:{:.2f},y:{:.2f}\".format(x,y))"
   ]
  },
  {
   "cell_type": "code",
   "execution_count": 11,
   "metadata": {},
   "outputs": [
    {
     "name": "stdout",
     "output_type": "stream",
     "text": [
      "输入x和y投影坐标（之间用逗号分隔）：13358338,3503549\n",
      "经度:120.00,纬度:30.00\n"
     ]
    }
   ],
   "source": [
    "from math import *\n",
    "#Web墨卡托投影坐标转WGS84经纬度坐标\n",
    "def WebM_to_WGS84(x,y):\n",
    "    r = 20037508.34\n",
    "    lon = (x * 180) / r\n",
    "    lat = atan(e ** (y * pi / r)) * 360 / pi - 90\n",
    "    return lon,lat\n",
    "#location是输入信息\n",
    "location = input(\"输入x和y投影坐标（之间用逗号分隔）：\")\n",
    "#截取lon,lat为经纬度坐标\n",
    "x, y = location.split(',')\n",
    "#格式处理\n",
    "x=eval(x)\n",
    "y=eval(y)\n",
    "#坐标转换\n",
    "lon,lat=WebM_to_WGS84(x,y)\n",
    "#输出坐标\n",
    "print(\"经度:{:.2f},纬度:{:.2f}\".format(lon,lat))"
   ]
  },
  {
   "source": [
    "## 第二次作业"
   ],
   "cell_type": "markdown",
   "metadata": {}
  },
  {
   "cell_type": "code",
   "execution_count": 3,
   "metadata": {},
   "outputs": [],
   "source": [
    "from math import *\n",
    "import requests\n",
    "for z in [15]:\n",
    "    #设置坐标范围\n",
    "    Xmin=13518000\n",
    "    Xmax=13521000\n",
    "    Ymin=3636000\n",
    "    Ymax=3638100\n",
    "    #d为缩放比例尺\n",
    "    d = 40075014/(2**int(z))\n",
    "    #计算相对应的行列数\n",
    "    rowYmin = int((20037507-Ymax)/d)\n",
    "    rowYmax = int((20037507-Ymin)/d)\n",
    "    colXmin = int((Xmin-(-20037507))/d)\n",
    "    colXmax = int((Xmax-(-20037507))/d)\n",
    "    #循环得到各自地图切片\n",
    "    for x in range(colXmin, colXmax+1):\n",
    "        for y in range(rowYmin,rowYmax+1):\n",
    "            #写入图片\n",
    "            url = f\"https://a.tile.openstreetmap.org/{z}/{x}/{y}.png\"\n",
    "            response = requests.get(url)\n",
    "            f = open(f\"{z}_{x}_{y}.png\", \"wb\")\n",
    "            f.write(response.content)\n",
    "            f.close()\n",
    "            #写入world文件\n",
    "            LU_y = 20037507 - (d*y)\n",
    "            LU_x = (d*x) - 20037507\n",
    "            x_resolution = d/256\n",
    "            y_resolution = d/256\n",
    "            text = f\"{x_resolution}\\n0\\n0\\n-{y_resolution}\\n{LU_x}\\n{LU_y}\"\n",
    "            f = open(f\"{z}_{x}_{y}.pngw\", \"w\")\n",
    "            f.write(text)\n",
    "            f.close()\n"
   ]
  },
  {
   "source": [
    "## 第三次作业"
   ],
   "cell_type": "markdown",
   "metadata": {}
  },
  {
   "source": [
    "### 因为我的anaconda烂了，我的pyproj是在Docker里安装的，代码也是在Docker里写的，然后Docker配置里自动下载的pyproj版本是2.6，比现在的3要低，所以有些函数用不了（比如说老师给的pyproj.list.get_proj_operations_map()，我只能用pyproj.get_proj_operations_map()，虽然他们的效果是一样的\n",
    "### 都怪python库里面的版本不兼容！！！\n",
    "### 如果老师和助教感兴趣的话，可以帮忙看看我封装好的Docker环境qwq\n",
    "### 在VSCode里打开然后reopen in docker container就可以了"
   ],
   "cell_type": "markdown",
   "metadata": {}
  },
  {
   "source": [
    "### 1）根据上海2000坐标系的定义，构建上海2000坐标系的proj4字符串或字典。\n"
   ],
   "cell_type": "markdown",
   "metadata": {}
  },
  {
   "source": [
    "####  以东经121°27′52″为中央子午线的高斯-克吕格投影坐标系统，计算东经121°28′01″、北纬31°14′07″点的投影坐标（x和y），然后在已定义的高斯-克吕格投影坐标系统中增加东偏（x_0）和北偏（y_0）参数，参数值分别为-x和-y（精度保留到厘米）。\n",
    "#### 以东经121°27′52″作为中央子午线，坐标系统原点位于东经121°28′01″与北纬31°14′07″的交点，采用的地球椭球体与国家的CGCS2000参考框架一致（地球椭球体参数与WGS84基本一致）。"
   ],
   "cell_type": "markdown",
   "metadata": {}
  },
  {
   "cell_type": "code",
   "execution_count": 60,
   "metadata": {},
   "outputs": [
    {
     "output_type": "stream",
     "name": "stdout",
     "text": [
      "epsg:4490\n",
      "{'proj': 'longlat', 'ellps': 'GRS80', 'no_defs': None, 'type': 'crs'}\n",
      "+proj=longlat +ellps=GRS80 +no_defs +type=crs\n",
      "GEOGCRS[\"China Geodetic Coordinate System 2000\",DATUM[\"China 2000\",ELLIPSOID[\"CGCS2000\",6378137,298.257222101,LENGTHUNIT[\"metre\",1]]],PRIMEM[\"Greenwich\",0,ANGLEUNIT[\"degree\",0.0174532925199433]],CS[ellipsoidal,2],AXIS[\"geodetic latitude (Lat)\",north,ORDER[1],ANGLEUNIT[\"degree\",0.0174532925199433]],AXIS[\"geodetic longitude (Lon)\",east,ORDER[2],ANGLEUNIT[\"degree\",0.0174532925199433]],USAGE[SCOPE[\"unknown\"],AREA[\"China\"],BBOX[16.7,73.62,53.56,134.77]],ID[\"EPSG\",4490]]\n",
      "/opt/conda/lib/python3.8/site-packages/pyproj/crs/crs.py:543: UserWarning: You will likely lose important projection information when converting to a PROJ string from another format. See: https://proj.org/faq.html#what-is-the-best-format-for-describing-coordinate-reference-systems\n",
      "  proj_string = self.to_proj4()\n",
      "<ipython-input-60-15afe3dd4f0c>:5: UserWarning: You will likely lose important projection information when converting to a PROJ string from another format. See: https://proj.org/faq.html#what-is-the-best-format-for-describing-coordinate-reference-systems\n",
      "  print(crs2.to_proj4())\n"
     ]
    },
    {
     "output_type": "execute_result",
     "data": {
      "text/plain": [
       "'GEOGCRS[\"China Geodetic Coordinate System 2000\",DATUM[\"China 2000\",ELLIPSOID[\"CGCS2000\",6378137,298.257222101,LENGTHUNIT[\"metre\",1]]],PRIMEM[\"Greenwich\",0,ANGLEUNIT[\"degree\",0.0174532925199433]],CS[ellipsoidal,2],AXIS[\"geodetic latitude (Lat)\",north,ORDER[1],ANGLEUNIT[\"degree\",0.0174532925199433]],AXIS[\"geodetic longitude (Lon)\",east,ORDER[2],ANGLEUNIT[\"degree\",0.0174532925199433]],USAGE[SCOPE[\"unknown\"],AREA[\"China\"],BBOX[16.7,73.62,53.56,134.77]],ID[\"EPSG\",4490]]'"
      ]
     },
     "metadata": {},
     "execution_count": 60
    }
   ],
   "source": [
    "#观察一下CGS2000的具体信息\n",
    "crs2=CRS.from_epsg(4490)\n",
    "print(crs2)\n",
    "print(crs2.to_dict())\n",
    "print(crs2.to_proj4())\n",
    "print(crs2.to_wkt())\n",
    "crs2.to_wkt()"
   ]
  },
  {
   "cell_type": "code",
   "execution_count": 9,
   "metadata": {},
   "outputs": [
    {
     "output_type": "stream",
     "name": "stdout",
     "text": [
      "东经121°28′01″、北纬31°14′07″点的投影坐标\nx:238.18,y:3457059.92\n"
     ]
    }
   ],
   "source": [
    "from pyproj import CRS, Transformer\n",
    "#CRS.from_epsg(2346)\n",
    "\n",
    "dc={'proj': 'tmerc',  'lon_0': 121.4644444, 'k': 1, 'x_0': 0, 'y_0': 0, 'ellps': 'GRS80','units': 'm', 'no_defs': None, 'type': 'crs'}\n",
    "transformer = Transformer.from_crs(4490,dc,always_xy=True)\n",
    "transed=transformer.transform(121.46694444444445,31.235277777777778)\n",
    "print(\"东经121°28′01″、北纬31°14′07″点的投影坐标\\nx:{:.2f},y:{:.2f}\".format(transed[0],transed[1]))\n",
    "#因为datum里找不到CGS2000所对应的值，所以在定义字典的时候没有加上datum的信息，我决定让他默认定义了\n",
    "#椭球体采用GRS80是因为在查询CGS2000的信息的时候（使用了crs.to_proj4查看椭球体信息，然后发现居然不是WGS84，是GRS80，为了尊重“采用的地球椭球体与国家的CGCS2000参考框架一致”的要求，我就用GRS80啦\n",
    "#顺便，通过wkt文本查看的CGCS2000的椭球体的参数和ArcGIS里的参数不一样……我使用已经定义好的CGCS2000了，也可以使用长短轴定义，但怕字典过长不好修改就算了"
   ]
  },
  {
   "cell_type": "code",
   "execution_count": 10,
   "metadata": {},
   "outputs": [
    {
     "output_type": "execute_result",
     "data": {
      "text/plain": [
       "{'proj': 'tmerc',\n",
       " 'lat_0': 31.2352777,\n",
       " 'lon_0': 121.4644444,\n",
       " 'k': 1,\n",
       " 'x_0': -238.18,\n",
       " 'y_0': -3457059.92,\n",
       " 'ellps': 'GRS80',\n",
       " 'units': 'm',\n",
       " 'no_defs': None,\n",
       " 'type': 'crs'}"
      ]
     },
     "metadata": {},
     "execution_count": 10
    }
   ],
   "source": [
    "SHdict={'proj': 'tmerc', 'lat_0': 31.2352777, 'lon_0': 121.4644444, 'k': 1, 'x_0': -238.18, 'y_0': -3457059.92, 'ellps': 'GRS80', 'units': 'm', 'no_defs': None, 'type': 'crs'}\n",
    "SHdict"
   ]
  },
  {
   "source": [
    "### 2）产生上海2000坐标系的wkt crs文本（WKT1_ESRI版本）。\n"
   ],
   "cell_type": "markdown",
   "metadata": {}
  },
  {
   "cell_type": "code",
   "execution_count": 11,
   "metadata": {},
   "outputs": [
    {
     "output_type": "stream",
     "name": "stdout",
     "text": [
      "上海2000坐标系的wkt crs文本（WKT1_ESRI版本）\n\nPROJCS[\"unknown\",\n    GEOGCS[\"GCS_unknown\",\n        DATUM[\"D_Unknown_based_on_GRS80_ellipsoid\",\n            SPHEROID[\"GRS_1980\",6378137.0,298.257222101]],\n        PRIMEM[\"Greenwich\",0.0],\n        UNIT[\"Degree\",0.0174532925199433]],\n    PROJECTION[\"Transverse_Mercator\"],\n    PARAMETER[\"False_Easting\",-238.18],\n    PARAMETER[\"False_Northing\",-3457059.92],\n    PARAMETER[\"Central_Meridian\",121.4644444],\n    PARAMETER[\"Scale_Factor\",1.0],\n    PARAMETER[\"Latitude_Of_Origin\",31.2352777],\n    UNIT[\"Meter\",1.0]]\n"
     ]
    }
   ],
   "source": [
    "from pyproj import CRS\n",
    "from pyproj.enums import WktVersion\n",
    "crs = CRS.from_dict(SHdict)\n",
    "#crs = CRS.from_epsg(4490)\n",
    "print(\"上海2000坐标系的wkt crs文本（WKT1_ESRI版本）\\n\")\n",
    "print(crs.to_wkt(version=WktVersion.WKT1_ESRI,pretty=True))\n",
    "#参考了老师放在ppt里的代码XD"
   ]
  },
  {
   "source": [
    "### 3）计算某个点（121.456,31.038，CGCS 2000地理坐标）的上海2000坐标。\n"
   ],
   "cell_type": "markdown",
   "metadata": {}
  },
  {
   "cell_type": "code",
   "execution_count": 12,
   "metadata": {},
   "outputs": [
    {
     "output_type": "stream",
     "name": "stdout",
     "text": [
      " 2000地理坐标（121.456,31.038，CGCS）的上海2000坐标:\nx:-1044.34,y:-3478932.43\n"
     ]
    }
   ],
   "source": [
    "from pyproj import Transformer\n",
    "transformer = Transformer.from_crs(4490,SHdict,always_xy=True)\n",
    "plot = transformer.transform(121.456,31.038)\n",
    "print(\" 2000地理坐标（121.456,31.038，CGCS）的上海2000坐标:\\nx:{:.2f},y:{:.2f}\".format(plot[0],plot[1]))"
   ]
  },
  {
   "source": [
    "### 4）如proj4字符串或字典中的地球椭球体改为IAU76，分析一下同个点的投影值差异（与地球椭球体为WGS84）.\n"
   ],
   "cell_type": "markdown",
   "metadata": {}
  },
  {
   "cell_type": "code",
   "execution_count": 13,
   "metadata": {},
   "outputs": [
    {
     "output_type": "stream",
     "name": "stdout",
     "text": [
      "WGS84: (499193.8437847696, -21872.506261482235)\n WGS84椭球体（121.456,31.038，CGCS）的投影后坐标:\nx:499193.84,y:-21872.51\n IAU76椭球体（121.456,31.038，CGCS）的投影后坐标:\nx:499193.84,y:-21872.52\n"
     ]
    }
   ],
   "source": [
    "from pyproj import Transformer\n",
    "SHdict={'proj': 'tmerc', 'lat_0': 31.2352777, 'lon_0': 121.4644444, 'k': 1, 'x_0': 500000, 'y_0': 0, 'ellps': 'WGS84',  'units': 'm', 'no_defs': None, 'type': 'crs'}\n",
    "SHdict2={'proj': 'tmerc', 'lat_0': 31.2352777, 'lon_0': 121.4644444, 'k': 1, 'x_0': 500000, 'y_0': 0, 'ellps': 'IAU76', 'units': 'm', 'no_defs': None, 'type': 'crs'}\n",
    "transformer1 = Transformer.from_crs(4490,SHdict,always_xy=True)\n",
    "transformer2 = Transformer.from_crs(4490,SHdict2,always_xy=True)\n",
    "plot1 = transformer1.transform(121.456,31.038)\n",
    "plot2 = transformer2.transform(121.456,31.038)\n",
    "print(\"WGS84:\",plot1)\n",
    "print(\" WGS84椭球体（121.456,31.038，CGCS）的投影后坐标:\\nx:{:.2f},y:{:.2f}\".format(plot1[0],plot1[1]))\n",
    "print(\" IAU76椭球体（121.456,31.038，CGCS）的投影后坐标:\\nx:{:.2f},y:{:.2f}\".format(plot2[0],plot2[1]))"
   ]
  },
  {
   "source": [
    "### 5）计算两个点（121.456，31.038；121.399，31.064，均为CGCS 2000地理坐标）投影到上海2000坐标系后的距离和投影到高斯-克吕格坐标系（epsg编码值为2346）后的距离差异。\n"
   ],
   "cell_type": "markdown",
   "metadata": {}
  },
  {
   "cell_type": "code",
   "execution_count": 14,
   "metadata": {},
   "outputs": [
    {
     "output_type": "stream",
     "name": "stdout",
     "text": [
      "投影到上海2000坐标系后的距离:6157.30m\n投影到高斯-克吕格坐标系后的距离:6159.01m\n距离差异：1.71m\n"
     ]
    }
   ],
   "source": [
    "from pyproj import Transformer\n",
    "from math import *\n",
    "SHdict={'proj': 'tmerc', 'lat_0': 31.2352777, 'lon_0': 121.4644444, 'k': 1, 'x_0': 500000, 'y_0': 0, 'ellps': 'WGS84', 'datum':'WGS84', 'units': 'm', 'no_defs': None, 'type': 'crs'}\n",
    "#两个坐标\n",
    "spot1 =(121.456,31.038)\n",
    "spot2 = (121.399,31.064)\n",
    "#定义两个Transformer\n",
    "transformer1 = Transformer.from_crs(4490,SHdict,always_xy=True)\n",
    "transformer2 = Transformer.from_crs(4490,2346,always_xy=True)\n",
    "#投影到上海2000坐标系后的坐标点\n",
    "psot1=transformer1.transform(spot1[0],spot1[1])\n",
    "psot2=transformer1.transform(spot2[0],spot2[1])\n",
    "#投影到高斯-克吕格坐标系后的坐标点\n",
    "ppot1=transformer2.transform(spot1[0],spot1[1])\n",
    "ppot2=transformer2.transform(spot2[0],spot2[1])\n",
    "#计算距离\n",
    "distance1=sqrt((psot1[0]-psot2[0])**2+(psot1[1]-psot2[1])**2)\n",
    "distance2=sqrt((ppot1[0]-ppot2[0])**2+(ppot1[1]-ppot2[1])**2)\n",
    "#输出\n",
    "print(\"投影到上海2000坐标系后的距离:{:.2f}m\".format(distance1))\n",
    "print(\"投影到高斯-克吕格坐标系后的距离:{:.2f}m\".format(distance2))\n",
    "print(\"距离差异：{:.2f}m\".format(abs(distance1-distance2)))"
   ]
  },
  {
   "source": [
    "#### 保留的函数\n"
   ],
   "cell_type": "markdown",
   "metadata": {}
  },
  {
   "cell_type": "code",
   "execution_count": 15,
   "metadata": {},
   "outputs": [
    {
     "output_type": "execute_result",
     "data": {
      "text/plain": [
       "{'adams_hemi': 'Adams Hemisphere in a Square',\n",
       " 'adams_ws1': 'Adams World in a Square I',\n",
       " 'adams_ws2': 'Adams World in a Square II',\n",
       " 'aea': 'Albers Equal Area',\n",
       " 'aeqd': 'Azimuthal Equidistant',\n",
       " 'affine': 'Affine transformation',\n",
       " 'airy': 'Airy',\n",
       " 'aitoff': 'Aitoff',\n",
       " 'alsk': 'Mod. Stereographic of Alaska',\n",
       " 'apian': 'Apian Globular I',\n",
       " 'august': 'August Epicycloidal',\n",
       " 'axisswap': 'Axis ordering',\n",
       " 'bacon': 'Bacon Globular',\n",
       " 'bertin1953': 'Bertin 1953',\n",
       " 'bipc': 'Bipolar conic of western hemisphere',\n",
       " 'boggs': 'Boggs Eumorphic',\n",
       " 'bonne': 'Bonne (Werner lat_1=90)',\n",
       " 'calcofi': 'Cal Coop Ocean Fish Invest Lines/Stations',\n",
       " 'cart': 'Geodetic/cartesian conversions',\n",
       " 'cass': 'Cassini',\n",
       " 'cc': 'Central Cylindrical',\n",
       " 'ccon': 'Central Conic',\n",
       " 'cea': 'Equal Area Cylindrical',\n",
       " 'chamb': 'Chamberlin Trimetric',\n",
       " 'collg': 'Collignon',\n",
       " 'col_urban': 'Colombia Urban',\n",
       " 'comill': 'Compact Miller',\n",
       " 'crast': 'Craster Parabolic (Putnins P4)',\n",
       " 'defmodel': 'Deformation model',\n",
       " 'deformation': 'Kinematic grid shift',\n",
       " 'denoy': 'Denoyer Semi-Elliptical',\n",
       " 'eck1': 'Eckert I',\n",
       " 'eck2': 'Eckert II',\n",
       " 'eck3': 'Eckert III',\n",
       " 'eck4': 'Eckert IV',\n",
       " 'eck5': 'Eckert V',\n",
       " 'eck6': 'Eckert VI',\n",
       " 'eqearth': 'Equal Earth',\n",
       " 'eqc': 'Equidistant Cylindrical (Plate Carree)',\n",
       " 'eqdc': 'Equidistant Conic',\n",
       " 'euler': 'Euler',\n",
       " 'etmerc': 'Extended Transverse Mercator',\n",
       " 'fahey': 'Fahey',\n",
       " 'fouc': 'Foucaut',\n",
       " 'fouc_s': 'Foucaut Sinusoidal',\n",
       " 'gall': 'Gall (Gall Stereographic)',\n",
       " 'geoc': 'Geocentric Latitude',\n",
       " 'geocent': 'Geocentric',\n",
       " 'geogoffset': 'Geographic Offset',\n",
       " 'geos': 'Geostationary Satellite View',\n",
       " 'gins8': 'Ginsburg VIII (TsNIIGAiK)',\n",
       " 'gn_sinu': 'General Sinusoidal Series',\n",
       " 'gnom': 'Gnomonic',\n",
       " 'goode': 'Goode Homolosine',\n",
       " 'gs48': 'Mod. Stereographic of 48 U.S.',\n",
       " 'gs50': 'Mod. Stereographic of 50 U.S.',\n",
       " 'guyou': 'Guyou',\n",
       " 'hammer': 'Hammer & Eckert-Greifendorff',\n",
       " 'hatano': 'Hatano Asymmetrical Equal Area',\n",
       " 'healpix': 'HEALPix',\n",
       " 'rhealpix': 'rHEALPix',\n",
       " 'helmert': '3(6)-, 4(8)- and 7(14)-parameter Helmert shift',\n",
       " 'hgridshift': 'Horizontal grid shift',\n",
       " 'horner': 'Horner polynomial evaluation',\n",
       " 'igh': 'Interrupted Goode Homolosine',\n",
       " 'igh_o': 'Interrupted Goode Homolosine Oceanic View',\n",
       " 'imw_p': 'International Map of the World Polyconic',\n",
       " 'isea': 'Icosahedral Snyder Equal Area',\n",
       " 'kav5': 'Kavraisky V',\n",
       " 'kav7': 'Kavraisky VII',\n",
       " 'krovak': 'Krovak',\n",
       " 'labrd': 'Laborde',\n",
       " 'laea': 'Lambert Azimuthal Equal Area',\n",
       " 'lagrng': 'Lagrange',\n",
       " 'larr': 'Larrivee',\n",
       " 'lask': 'Laskowski',\n",
       " 'lonlat': 'Lat/long (Geodetic)',\n",
       " 'latlon': 'Lat/long (Geodetic alias)',\n",
       " 'latlong': 'Lat/long (Geodetic alias)',\n",
       " 'longlat': 'Lat/long (Geodetic alias)',\n",
       " 'lcc': 'Lambert Conformal Conic',\n",
       " 'lcca': 'Lambert Conformal Conic Alternative',\n",
       " 'leac': 'Lambert Equal Area Conic',\n",
       " 'lee_os': 'Lee Oblated Stereographic',\n",
       " 'loxim': 'Loximuthal',\n",
       " 'lsat': 'Space oblique for LANDSAT',\n",
       " 'mbt_s': 'McBryde-Thomas Flat-Polar Sine (No. 1)',\n",
       " 'mbt_fps': 'McBryde-Thomas Flat-Pole Sine (No. 2)',\n",
       " 'mbtfpp': 'McBride-Thomas Flat-Polar Parabolic',\n",
       " 'mbtfpq': 'McBryde-Thomas Flat-Polar Quartic',\n",
       " 'mbtfps': 'McBryde-Thomas Flat-Polar Sinusoidal',\n",
       " 'merc': 'Mercator',\n",
       " 'mil_os': 'Miller Oblated Stereographic',\n",
       " 'mill': 'Miller Cylindrical',\n",
       " 'misrsom': 'Space oblique for MISR',\n",
       " 'moll': 'Mollweide',\n",
       " 'molobadekas': 'Molodensky-Badekas transformation',\n",
       " 'molodensky': 'Molodensky transform',\n",
       " 'murd1': 'Murdoch I',\n",
       " 'murd2': 'Murdoch II',\n",
       " 'murd3': 'Murdoch III',\n",
       " 'natearth': 'Natural Earth',\n",
       " 'natearth2': 'Natural Earth 2',\n",
       " 'nell': 'Nell',\n",
       " 'nell_h': 'Nell-Hammer',\n",
       " 'nicol': 'Nicolosi Globular',\n",
       " 'nsper': 'Near-sided perspective',\n",
       " 'nzmg': 'New Zealand Map Grid',\n",
       " 'noop': 'No operation',\n",
       " 'ob_tran': 'General Oblique Transformation',\n",
       " 'ocea': 'Oblique Cylindrical Equal Area',\n",
       " 'oea': 'Oblated Equal Area',\n",
       " 'omerc': 'Oblique Mercator',\n",
       " 'ortel': 'Ortelius Oval',\n",
       " 'ortho': 'Orthographic',\n",
       " 'pconic': 'Perspective Conic',\n",
       " 'patterson': 'Patterson Cylindrical',\n",
       " 'peirce_q': 'Peirce Quincuncial',\n",
       " 'pipeline': 'Transformation pipeline manager',\n",
       " 'poly': 'Polyconic (American)',\n",
       " 'pop': 'Retrieve coordinate value from pipeline stack',\n",
       " 'push': 'Save coordinate value on pipeline stack',\n",
       " 'putp1': 'Putnins P1',\n",
       " 'putp2': 'Putnins P2',\n",
       " 'putp3': 'Putnins P3',\n",
       " 'putp3p': \"Putnins P3'\",\n",
       " 'putp4p': \"Putnins P4'\",\n",
       " 'putp5': 'Putnins P5',\n",
       " 'putp5p': \"Putnins P5'\",\n",
       " 'putp6': 'Putnins P6',\n",
       " 'putp6p': \"Putnins P6'\",\n",
       " 'qua_aut': 'Quartic Authalic',\n",
       " 'qsc': 'Quadrilateralized Spherical Cube',\n",
       " 'robin': 'Robinson',\n",
       " 'rouss': 'Roussilhe Stereographic',\n",
       " 'rpoly': 'Rectangular Polyconic',\n",
       " 'sch': 'Spherical Cross-track Height',\n",
       " 'set': 'Set coordinate value',\n",
       " 'sinu': 'Sinusoidal (Sanson-Flamsteed)',\n",
       " 'somerc': 'Swiss. Obl. Mercator',\n",
       " 'stere': 'Stereographic',\n",
       " 'sterea': 'Oblique Stereographic Alternative',\n",
       " 'gstmerc': 'Gauss-Schreiber Transverse Mercator (aka Gauss-Laborde Reunion)',\n",
       " 'tcc': 'Transverse Central Cylindrical',\n",
       " 'tcea': 'Transverse Cylindrical Equal Area',\n",
       " 'times': 'Times',\n",
       " 'tinshift': 'Triangulation based transformation',\n",
       " 'tissot': 'Tissot',\n",
       " 'tmerc': 'Transverse Mercator',\n",
       " 'tobmerc': 'Tobler-Mercator',\n",
       " 'topocentric': 'Geocentric/Topocentric conversion',\n",
       " 'tpeqd': 'Two Point Equidistant',\n",
       " 'tpers': 'Tilted perspective',\n",
       " 'unitconvert': 'Unit conversion',\n",
       " 'ups': 'Universal Polar Stereographic',\n",
       " 'urm5': 'Urmaev V',\n",
       " 'urmfps': 'Urmaev Flat-Polar Sinusoidal',\n",
       " 'utm': 'Universal Transverse Mercator (UTM)',\n",
       " 'vandg': 'van der Grinten (I)',\n",
       " 'vandg2': 'van der Grinten II',\n",
       " 'vandg3': 'van der Grinten III',\n",
       " 'vandg4': 'van der Grinten IV',\n",
       " 'vitk1': 'Vitkovsky I',\n",
       " 'vgridshift': 'Vertical grid shift',\n",
       " 'wag1': 'Wagner I (Kavraisky VI)',\n",
       " 'wag2': 'Wagner II',\n",
       " 'wag3': 'Wagner III',\n",
       " 'wag4': 'Wagner IV',\n",
       " 'wag5': 'Wagner V',\n",
       " 'wag6': 'Wagner VI',\n",
       " 'wag7': 'Wagner VII',\n",
       " 'webmerc': 'Web Mercator / Pseudo Mercator',\n",
       " 'weren': 'Werenskiold I',\n",
       " 'wink1': 'Winkel I',\n",
       " 'wink2': 'Winkel II',\n",
       " 'wintri': 'Winkel Tripel',\n",
       " 'xyzgridshift': 'Geocentric grid shift'}"
      ]
     },
     "metadata": {},
     "execution_count": 15
    }
   ],
   "source": [
    "from pyproj import CRS\n",
    "import pyproj\n",
    "ProjDict=pyproj.get_proj_operations_map()\n",
    "MapList=pyproj.get_ellps_map()\n",
    "#MapList\n",
    "ProjDict"
   ]
  },
  {
   "source": [
    "## 第四次作业\n",
    "\n",
    "### 此段程序由Docker配置, 可以从我的Docker仓库wingnes/segis获得相应的Docker镜像配置, 使用miniconda(conda version 4.10.1), 对应python版本3.8.5, 已装有pyproj, jupyter, requests, gdal, fiona, geopandas等库。"
   ],
   "cell_type": "markdown",
   "metadata": {}
  },
  {
   "cell_type": "code",
   "execution_count": 2,
   "metadata": {},
   "outputs": [],
   "source": [
    "from osgeo import gdal\n",
    "import fiona\n",
    "from shapely.geometry import Point"
   ]
  },
  {
   "source": [
    "### 已有我国的地级市城市分布数据（china_city.shp）（图1），空间参照系统为Albers投影坐标（详见prj文件）。现要根据某个地震的发生位置（假定坐标为东经101度，北纬27度，空间参照系统为WGS84），提取位于该位置300公里范围内的城市，并产生一个shapefile文件（图2），同时打印输出城市名。\n",
    "### 1）输出文件的driver、schema、crs同china_city.shp，由于涉及汉字，需要定义encoding关键词参数为'utf8'。\n",
    "### 2）地震位置的坐标要转换成同china_city.shp一致的坐标参照系统。利用pyproj包Transformer模块中的from_crs(crs_from,crs_to)函数转换坐标时，crs参数可以是proj4字典，即Collection对象的crs属性值。\n",
    "### 3）操作结束后，应关闭Collection对象（利用Collection对象的close()方法）。\n",
    "### 4）输入输出文件放在和程序同个文件夹中，读写文件使用相对路径（文件名前不加路径）。"
   ],
   "cell_type": "markdown",
   "metadata": {}
  },
  {
   "cell_type": "code",
   "execution_count": 7,
   "metadata": {},
   "outputs": [
    {
     "output_type": "stream",
     "name": "stdout",
     "text": [
      "楚雄市\n保山市\n大理市\n怒江傈僳族自治州\n泸水县\n东川市\n攀枝花市\n丽江纳西族自治县\n昭通市\n中甸县\n西昌市\n"
     ]
    }
   ],
   "source": [
    "# 引库\n",
    "import pprint\n",
    "import fiona\n",
    "from pyproj import CRS\n",
    "from pyproj import Transformer\n",
    "from shapely.geometry import Point\n",
    "\n",
    "# 打开源文件\n",
    "source = fiona.open('china_city.shp', 'r', encoding='utf-8')\n",
    "source_driver = source.driver\n",
    "source_crs = source.crs\n",
    "source_schema = source.schema\n",
    "\n",
    "# 给地震中心制作范围为300公里的buffer\n",
    "\n",
    "center = (101,27)\n",
    "# center的坐标是WGS84，EPSG编号4326，需要投影到的坐标是之前读取文件时读入的crs\n",
    "transformer = Transformer.from_crs(4326, source_crs, always_xy=True)\n",
    "# 投影到Albers坐标系后的坐标点\n",
    "pcenter=transformer.transform(center[0], center[1])\n",
    "cPoint = Point(pcenter)\n",
    "# 制作buffer\n",
    "cBuffer = cPoint.buffer(300000)\n",
    "\n",
    "# 打开写入文件\n",
    "target = fiona.open('cities_affected.shp', 'w', encoding='utf-8',\n",
    "                    driver=source_driver,\n",
    "                    crs=source_crs, \n",
    "                    schema=source_schema)\n",
    "\n",
    "for record in source:\n",
    "    coordinates = record['geometry']['coordinates']\n",
    "    # # 判断类型\n",
    "    # print(record['geometry']['type'])\n",
    "    nowRecord = Point(coordinates)\n",
    "    \n",
    "# 判断，写入位于缓冲区内的城市\n",
    "    if nowRecord.intersects(cBuffer):\n",
    "        target.write(record)\n",
    "        # 输出城市名称\n",
    "        NAME = record['properties']['city_name']\n",
    "        print(NAME)\n",
    "# 关闭文件\n",
    "target.close()\n",
    "source.close()\n"
   ]
  },
  {
   "cell_type": "code",
   "execution_count": 8,
   "metadata": {},
   "outputs": [],
   "source": [
    "# 打开prj读入crs的情况\n",
    "# ff=open('china_city.prj', 'r')\n",
    "# crs= CRS.from_wkt(ff.read())\n",
    "# crs\n",
    "\n",
    "# 查看shp中的所有记录\n",
    "# for record in cities:\n",
    "#     NAME = record['properties']['city_name']\n",
    "#     Lon = record['properties']['Lon']\n",
    "#     Lat = record['properties']['Lat']\n",
    "#     coordinates = record['geometry']['coordinates']\n",
    "#     print(f'{NAME}:{Lon},{Lat}')"
   ]
  },
  {
   "source": [
    "## 第五次作业\n",
    "### 此段程序由Docker配置, 可以从我的Docker仓库wingnes/segis获得相应的Docker镜像配置, 使用miniconda(conda version 4.10.1), 对应python版本3.8.5, 已装有pyproj, jupyter, requests, gdal, fiona, geopandas等库。"
   ],
   "cell_type": "markdown",
   "metadata": {}
  },
  {
   "source": [
    "### 我国的省级行政区划数据（china_provinces.shp）和道路数据（china_roads.shp），空间参照系统均为Albers投影坐标，坐标单位为米。\n",
    "### 通过两个数据的叠置操作计算每个省的道路总长度和道路密度（每平方公里的道路长度），并把计算结果作为新的字段添加到china_provinces.shp数据中，保存为一个新的shapefile文件，同时按道路密度以梯度色显示每个省，并显示图例（如图1）。\n",
    "### 1）道路长度的单位为km，保留小数点后面三位；道路密度的单位为km/km2，保留小数点后面4位。\n",
    "### 2）plot()方法的column参数用于设置按哪个字段值进行颜色设置，如column='road_density'表示按road_density字段进行颜色设置；cmap参数表示用哪种颜色梯度，如Greys、Purples、Blues、Greens、Oranges，详细可查阅 https://matplotlib.org/stable/tutorials/colors/colormaps.html#sphx-glr-tutorials-colors-colormaps-py；legend表示是否显示图例，True表示显示图例。利用plot()方法绘制地图的详细介绍可参考https://geopandas.org/docs/user_guide/mapping.html。\n",
    "### 3）写shapefile文件时，如涉及汉字，需定义encoding关键词参数为'utf8'。\n",
    "### 4）输入输出文件放在和程序同个文件夹中，读写文件使用相对路径（文件名前不加路径）。"
   ],
   "cell_type": "markdown",
   "metadata": {}
  },
  {
   "cell_type": "code",
   "execution_count": 5,
   "metadata": {},
   "outputs": [
    {
     "output_type": "error",
     "ename": "SchemaError",
     "evalue": "Failed to create field name 'NAME': cannot convert to utf8",
     "traceback": [
      "\u001b[0;31m---------------------------------------------------------------------------\u001b[0m",
      "\u001b[0;31mCPLE_AppDefinedError\u001b[0m                      Traceback (most recent call last)",
      "\u001b[0;32mfiona/ogrext.pyx\u001b[0m in \u001b[0;36mfiona.ogrext.WritingSession.start\u001b[0;34m()\u001b[0m\n",
      "\u001b[0;32mfiona/_err.pyx\u001b[0m in \u001b[0;36mfiona._err.exc_wrap_int\u001b[0;34m()\u001b[0m\n",
      "\u001b[0;31mCPLE_AppDefinedError\u001b[0m: Failed to create field name 'NAME': cannot convert to utf8",
      "\nDuring handling of the above exception, another exception occurred:\n",
      "\u001b[0;31mSchemaError\u001b[0m                               Traceback (most recent call last)",
      "\u001b[0;32m<ipython-input-5-04e415e60260>\u001b[0m in \u001b[0;36m<module>\u001b[0;34m\u001b[0m\n\u001b[1;32m     41\u001b[0m \u001b[0;34m\u001b[0m\u001b[0m\n\u001b[1;32m     42\u001b[0m \u001b[0;31m# 写入文件\u001b[0m\u001b[0;34m\u001b[0m\u001b[0;34m\u001b[0m\u001b[0;34m\u001b[0m\u001b[0m\n\u001b[0;32m---> 43\u001b[0;31m \u001b[0mprovinces_write\u001b[0m\u001b[0;34m.\u001b[0m\u001b[0mto_file\u001b[0m\u001b[0;34m(\u001b[0m\u001b[0;34m\"output_provinces.shp\"\u001b[0m\u001b[0;34m,\u001b[0m\u001b[0mencoding\u001b[0m\u001b[0;34m=\u001b[0m\u001b[0;34m'utf8'\u001b[0m\u001b[0;34m)\u001b[0m\u001b[0;34m\u001b[0m\u001b[0;34m\u001b[0m\u001b[0m\n\u001b[0m",
      "\u001b[0;32m/opt/conda/lib/python3.8/site-packages/geopandas/geodataframe.py\u001b[0m in \u001b[0;36mto_file\u001b[0;34m(self, filename, driver, schema, index, **kwargs)\u001b[0m\n\u001b[1;32m   1084\u001b[0m         \u001b[0;32mfrom\u001b[0m \u001b[0mgeopandas\u001b[0m\u001b[0;34m.\u001b[0m\u001b[0mio\u001b[0m\u001b[0;34m.\u001b[0m\u001b[0mfile\u001b[0m \u001b[0;32mimport\u001b[0m \u001b[0m_to_file\u001b[0m\u001b[0;34m\u001b[0m\u001b[0;34m\u001b[0m\u001b[0m\n\u001b[1;32m   1085\u001b[0m \u001b[0;34m\u001b[0m\u001b[0m\n\u001b[0;32m-> 1086\u001b[0;31m         \u001b[0m_to_file\u001b[0m\u001b[0;34m(\u001b[0m\u001b[0mself\u001b[0m\u001b[0;34m,\u001b[0m \u001b[0mfilename\u001b[0m\u001b[0;34m,\u001b[0m \u001b[0mdriver\u001b[0m\u001b[0;34m,\u001b[0m \u001b[0mschema\u001b[0m\u001b[0;34m,\u001b[0m \u001b[0mindex\u001b[0m\u001b[0;34m,\u001b[0m \u001b[0;34m**\u001b[0m\u001b[0mkwargs\u001b[0m\u001b[0;34m)\u001b[0m\u001b[0;34m\u001b[0m\u001b[0;34m\u001b[0m\u001b[0m\n\u001b[0m\u001b[1;32m   1087\u001b[0m \u001b[0;34m\u001b[0m\u001b[0m\n\u001b[1;32m   1088\u001b[0m     \u001b[0;32mdef\u001b[0m \u001b[0mset_crs\u001b[0m\u001b[0;34m(\u001b[0m\u001b[0mself\u001b[0m\u001b[0;34m,\u001b[0m \u001b[0mcrs\u001b[0m\u001b[0;34m=\u001b[0m\u001b[0;32mNone\u001b[0m\u001b[0;34m,\u001b[0m \u001b[0mepsg\u001b[0m\u001b[0;34m=\u001b[0m\u001b[0;32mNone\u001b[0m\u001b[0;34m,\u001b[0m \u001b[0minplace\u001b[0m\u001b[0;34m=\u001b[0m\u001b[0;32mFalse\u001b[0m\u001b[0;34m,\u001b[0m \u001b[0mallow_override\u001b[0m\u001b[0;34m=\u001b[0m\u001b[0;32mFalse\u001b[0m\u001b[0;34m)\u001b[0m\u001b[0;34m:\u001b[0m\u001b[0;34m\u001b[0m\u001b[0;34m\u001b[0m\u001b[0m\n",
      "\u001b[0;32m/opt/conda/lib/python3.8/site-packages/geopandas/io/file.py\u001b[0m in \u001b[0;36m_to_file\u001b[0;34m(df, filename, driver, schema, index, mode, crs, **kwargs)\u001b[0m\n\u001b[1;32m    325\u001b[0m         \u001b[0;32melif\u001b[0m \u001b[0mcrs\u001b[0m\u001b[0;34m:\u001b[0m\u001b[0;34m\u001b[0m\u001b[0;34m\u001b[0m\u001b[0m\n\u001b[1;32m    326\u001b[0m             \u001b[0mcrs_wkt\u001b[0m \u001b[0;34m=\u001b[0m \u001b[0mcrs\u001b[0m\u001b[0;34m.\u001b[0m\u001b[0mto_wkt\u001b[0m\u001b[0;34m(\u001b[0m\u001b[0;34m\"WKT1_GDAL\"\u001b[0m\u001b[0;34m)\u001b[0m\u001b[0;34m\u001b[0m\u001b[0;34m\u001b[0m\u001b[0m\n\u001b[0;32m--> 327\u001b[0;31m         with fiona.open(\n\u001b[0m\u001b[1;32m    328\u001b[0m             \u001b[0mfilename\u001b[0m\u001b[0;34m,\u001b[0m \u001b[0mmode\u001b[0m\u001b[0;34m=\u001b[0m\u001b[0mmode\u001b[0m\u001b[0;34m,\u001b[0m \u001b[0mdriver\u001b[0m\u001b[0;34m=\u001b[0m\u001b[0mdriver\u001b[0m\u001b[0;34m,\u001b[0m \u001b[0mcrs_wkt\u001b[0m\u001b[0;34m=\u001b[0m\u001b[0mcrs_wkt\u001b[0m\u001b[0;34m,\u001b[0m \u001b[0mschema\u001b[0m\u001b[0;34m=\u001b[0m\u001b[0mschema\u001b[0m\u001b[0;34m,\u001b[0m \u001b[0;34m**\u001b[0m\u001b[0mkwargs\u001b[0m\u001b[0;34m\u001b[0m\u001b[0;34m\u001b[0m\u001b[0m\n\u001b[1;32m    329\u001b[0m         ) as colxn:\n",
      "\u001b[0;32m/opt/conda/lib/python3.8/site-packages/fiona/env.py\u001b[0m in \u001b[0;36mwrapper\u001b[0;34m(*args, **kwargs)\u001b[0m\n\u001b[1;32m    406\u001b[0m     \u001b[0;32mdef\u001b[0m \u001b[0mwrapper\u001b[0m\u001b[0;34m(\u001b[0m\u001b[0;34m*\u001b[0m\u001b[0margs\u001b[0m\u001b[0;34m,\u001b[0m \u001b[0;34m**\u001b[0m\u001b[0mkwargs\u001b[0m\u001b[0;34m)\u001b[0m\u001b[0;34m:\u001b[0m\u001b[0;34m\u001b[0m\u001b[0;34m\u001b[0m\u001b[0m\n\u001b[1;32m    407\u001b[0m         \u001b[0;32mif\u001b[0m \u001b[0mlocal\u001b[0m\u001b[0;34m.\u001b[0m\u001b[0m_env\u001b[0m\u001b[0;34m:\u001b[0m\u001b[0;34m\u001b[0m\u001b[0;34m\u001b[0m\u001b[0m\n\u001b[0;32m--> 408\u001b[0;31m             \u001b[0;32mreturn\u001b[0m \u001b[0mf\u001b[0m\u001b[0;34m(\u001b[0m\u001b[0;34m*\u001b[0m\u001b[0margs\u001b[0m\u001b[0;34m,\u001b[0m \u001b[0;34m**\u001b[0m\u001b[0mkwargs\u001b[0m\u001b[0;34m)\u001b[0m\u001b[0;34m\u001b[0m\u001b[0;34m\u001b[0m\u001b[0m\n\u001b[0m\u001b[1;32m    409\u001b[0m         \u001b[0;32melse\u001b[0m\u001b[0;34m:\u001b[0m\u001b[0;34m\u001b[0m\u001b[0;34m\u001b[0m\u001b[0m\n\u001b[1;32m    410\u001b[0m             \u001b[0;32mif\u001b[0m \u001b[0misinstance\u001b[0m\u001b[0;34m(\u001b[0m\u001b[0margs\u001b[0m\u001b[0;34m[\u001b[0m\u001b[0;36m0\u001b[0m\u001b[0;34m]\u001b[0m\u001b[0;34m,\u001b[0m \u001b[0mstr\u001b[0m\u001b[0;34m)\u001b[0m\u001b[0;34m:\u001b[0m\u001b[0;34m\u001b[0m\u001b[0;34m\u001b[0m\u001b[0m\n",
      "\u001b[0;32m/opt/conda/lib/python3.8/site-packages/fiona/__init__.py\u001b[0m in \u001b[0;36mopen\u001b[0;34m(fp, mode, driver, schema, crs, encoding, layer, vfs, enabled_drivers, crs_wkt, **kwargs)\u001b[0m\n\u001b[1;32m    270\u001b[0m             \u001b[0;32melse\u001b[0m\u001b[0;34m:\u001b[0m\u001b[0;34m\u001b[0m\u001b[0;34m\u001b[0m\u001b[0m\n\u001b[1;32m    271\u001b[0m                 \u001b[0mthis_schema\u001b[0m \u001b[0;34m=\u001b[0m \u001b[0;32mNone\u001b[0m\u001b[0;34m\u001b[0m\u001b[0;34m\u001b[0m\u001b[0m\n\u001b[0;32m--> 272\u001b[0;31m             c = Collection(path, mode, crs=crs, driver=driver, schema=this_schema,\n\u001b[0m\u001b[1;32m    273\u001b[0m                            \u001b[0mencoding\u001b[0m\u001b[0;34m=\u001b[0m\u001b[0mencoding\u001b[0m\u001b[0;34m,\u001b[0m \u001b[0mlayer\u001b[0m\u001b[0;34m=\u001b[0m\u001b[0mlayer\u001b[0m\u001b[0;34m,\u001b[0m \u001b[0menabled_drivers\u001b[0m\u001b[0;34m=\u001b[0m\u001b[0menabled_drivers\u001b[0m\u001b[0;34m,\u001b[0m \u001b[0mcrs_wkt\u001b[0m\u001b[0;34m=\u001b[0m\u001b[0mcrs_wkt\u001b[0m\u001b[0;34m,\u001b[0m\u001b[0;34m\u001b[0m\u001b[0;34m\u001b[0m\u001b[0m\n\u001b[1;32m    274\u001b[0m                            **kwargs)\n",
      "\u001b[0;32m/opt/conda/lib/python3.8/site-packages/fiona/collection.py\u001b[0m in \u001b[0;36m__init__\u001b[0;34m(self, path, mode, driver, schema, crs, encoding, layer, vsi, archive, enabled_drivers, crs_wkt, ignore_fields, ignore_geometry, **kwargs)\u001b[0m\n\u001b[1;32m    163\u001b[0m             \u001b[0;32melif\u001b[0m \u001b[0mself\u001b[0m\u001b[0;34m.\u001b[0m\u001b[0mmode\u001b[0m \u001b[0;32min\u001b[0m \u001b[0;34m(\u001b[0m\u001b[0;34m'a'\u001b[0m\u001b[0;34m,\u001b[0m \u001b[0;34m'w'\u001b[0m\u001b[0;34m)\u001b[0m\u001b[0;34m:\u001b[0m\u001b[0;34m\u001b[0m\u001b[0;34m\u001b[0m\u001b[0m\n\u001b[1;32m    164\u001b[0m                 \u001b[0mself\u001b[0m\u001b[0;34m.\u001b[0m\u001b[0msession\u001b[0m \u001b[0;34m=\u001b[0m \u001b[0mWritingSession\u001b[0m\u001b[0;34m(\u001b[0m\u001b[0;34m)\u001b[0m\u001b[0;34m\u001b[0m\u001b[0;34m\u001b[0m\u001b[0m\n\u001b[0;32m--> 165\u001b[0;31m                 \u001b[0mself\u001b[0m\u001b[0;34m.\u001b[0m\u001b[0msession\u001b[0m\u001b[0;34m.\u001b[0m\u001b[0mstart\u001b[0m\u001b[0;34m(\u001b[0m\u001b[0mself\u001b[0m\u001b[0;34m,\u001b[0m \u001b[0;34m**\u001b[0m\u001b[0mkwargs\u001b[0m\u001b[0;34m)\u001b[0m\u001b[0;34m\u001b[0m\u001b[0;34m\u001b[0m\u001b[0m\n\u001b[0m\u001b[1;32m    166\u001b[0m         \u001b[0;32mexcept\u001b[0m \u001b[0mIOError\u001b[0m\u001b[0;34m:\u001b[0m\u001b[0;34m\u001b[0m\u001b[0;34m\u001b[0m\u001b[0m\n\u001b[1;32m    167\u001b[0m             \u001b[0mself\u001b[0m\u001b[0;34m.\u001b[0m\u001b[0msession\u001b[0m \u001b[0;34m=\u001b[0m \u001b[0;32mNone\u001b[0m\u001b[0;34m\u001b[0m\u001b[0;34m\u001b[0m\u001b[0m\n",
      "\u001b[0;32mfiona/ogrext.pyx\u001b[0m in \u001b[0;36mfiona.ogrext.WritingSession.start\u001b[0;34m()\u001b[0m\n",
      "\u001b[0;31mSchemaError\u001b[0m: Failed to create field name 'NAME': cannot convert to utf8"
     ]
    }
   ],
   "source": [
    "# 导库\n",
    "# from shapely.geometry import Point\n",
    "# from shapely.geometry import LineString\n",
    "# from shapely.geometry import Polygon\n",
    "import geopandas as gpd\n",
    "# from decimal import *\n",
    "# import fiona\n",
    "\n",
    "# 读入数据\n",
    "provinces = gpd.GeoDataFrame.from_file('china_provinces.shp',encoding=\"utf8\")\n",
    "roads = gpd.GeoDataFrame.from_file('china_roads.shp',encoding=\"utf8\")\n",
    "# source = fiona.open('china_provinces.shp', 'r', encoding='utf-8')\n",
    "# source_driver = source.driver\n",
    "# source_crs = source.crs\n",
    "# source_schema = source.schema\n",
    "\n",
    "# 画一个图先\n",
    "ax1 = provinces.plot()\n",
    "roads.plot(color=\"r\",ax=ax1,zorder=1,linewidth=0.5)\n",
    "\n",
    "# 计算不同省的道路长度和密度\n",
    "lineLength=[]\n",
    "lineDensity=[]\n",
    "for i in range(provinces.shape[0]):\n",
    "\n",
    "    nowPro_poly = provinces.iloc[i][\"geometry\"]\n",
    "    nowPro_area = nowPro_poly.area/1000000\n",
    "    now_line = roads[roads.intersects(nowPro_poly)]\n",
    "    \n",
    "    nowlineLength = now_line.length.sum()/1000\n",
    "    nowlineDensity = nowlineLength/nowPro_area\n",
    "    \n",
    "    \n",
    "    lineLength.append(round(nowlineLength,3))\n",
    "    lineDensity.append(round(nowlineDensity,4))\n",
    "\n",
    "# 从原来的文件中复制出新的geodataframe并且添加新列\n",
    "provinces_write = provinces\n",
    "provinces_write[\"length\"] = lineLength\n",
    "provinces_write[\"density\"] = lineDensity\n",
    "\n",
    "# 写入文件\n",
    "provinces_write.to_file(\"output_provinces.shp\",encoding='utf8')"
   ]
  },
  {
   "cell_type": "code",
   "execution_count": 2,
   "metadata": {},
   "outputs": [
    {
     "output_type": "execute_result",
     "data": {
      "text/plain": [
       "        NAME   简称                                           geometry\n",
       "0        安徽省   安徽  POLYGON ((1024567.540 3756081.292, 1029352.023...\n",
       "1        北京市   北京  POLYGON ((1042330.841 4441044.906, 1042940.767...\n",
       "2        福建省   福建  MULTIPOLYGON (((1256838.615 2541167.263, 12568...\n",
       "3        甘肃省   甘肃  POLYGON ((-233591.319 3580532.440, -231837.893...\n",
       "4    广西壮族自治区   广西  MULTIPOLYGON (((444910.642 2178110.455, 443968...\n",
       "5        贵州省   贵州  MULTIPOLYGON (((453592.315 2822530.586, 451397...\n",
       "6        海南省   海南  MULTIPOLYGON (((991858.829 667908.424, 991670....\n",
       "7        河北省   河北  MULTIPOLYGON (((1102148.307 4172439.614, 11018...\n",
       "8        河南省   河南  POLYGON ((548698.698 3559280.707, 548717.609 3...\n",
       "9       黑龙江省  黑龙江  POLYGON ((1413290.949 5207360.672, 1412340.803...\n",
       "10       湖北省   湖北  POLYGON ((775845.863 3144347.128, 774886.177 3...\n",
       "11       湖南省   湖南  POLYGON ((674998.460 3175096.053, 676535.537 3...\n",
       "12       吉林省   吉林  POLYGON ((1597273.189 4796720.902, 1596857.153...\n",
       "13       江苏省   江苏  MULTIPOLYGON (((1539381.411 3498441.819, 15391...\n",
       "14       江西省   江西  POLYGON ((1002807.071 3211272.243, 1011210.998...\n",
       "15       辽宁省   辽宁  MULTIPOLYGON (((1416287.561 4282392.186, 14160...\n",
       "16    内蒙古自治区  内蒙古  POLYGON ((521688.068 4266483.319, 521205.153 4...\n",
       "17   宁夏回族自治区   宁夏  POLYGON ((66253.428 4055361.636, 69764.981 406...\n",
       "18       青海省   青海  POLYGON ((-348385.624 3609937.905, -348205.286...\n",
       "19       山东省   山东  MULTIPOLYGON (((1326418.816 3907490.983, 13262...\n",
       "20       山西省   山西  POLYGON ((755092.432 4404092.537, 756784.661 4...\n",
       "21       陕西省   陕西  POLYGON ((521688.068 4266483.319, 518496.516 4...\n",
       "22       上海市   上海  MULTIPOLYGON (((1548183.511 3380190.060, 15479...\n",
       "23       四川省   四川  POLYGON ((-458884.762 2933557.434, -460938.421...\n",
       "24       台湾省   台湾  MULTIPOLYGON (((1646103.286 2390734.826, 16459...\n",
       "25       天津市   天津  POLYGON ((998261.042 4316297.010, 1000537.235 ...\n",
       "26     西藏自治区   西藏  POLYGON ((-672942.025 3485249.940, -670443.696...\n",
       "27   香港特别行政区   香港  MULTIPOLYGON (((926587.291 2347058.835, 925079...\n",
       "28  新疆维吾尔自治区   新疆  POLYGON ((-1198934.131 5286582.051, -1199018.2...\n",
       "29       云南省   云南  POLYGON ((-405685.315 2272230.080, -405937.703...\n",
       "30       浙江省   浙江  MULTIPOLYGON (((1521122.960 2974343.934, 15209...\n",
       "31       重庆市   重庆  POLYGON ((326810.561 3430947.752, 328389.565 3...\n",
       "32       广东省   广东  MULTIPOLYGON (((522392.577 2106680.661, 522198...\n",
       "33   澳门特别行政区   澳门  MULTIPOLYGON (((892036.414 2339196.614, 891101..."
      ],
      "text/html": "<div>\n<style scoped>\n    .dataframe tbody tr th:only-of-type {\n        vertical-align: middle;\n    }\n\n    .dataframe tbody tr th {\n        vertical-align: top;\n    }\n\n    .dataframe thead th {\n        text-align: right;\n    }\n</style>\n<table border=\"1\" class=\"dataframe\">\n  <thead>\n    <tr style=\"text-align: right;\">\n      <th></th>\n      <th>NAME</th>\n      <th>简称</th>\n      <th>geometry</th>\n    </tr>\n  </thead>\n  <tbody>\n    <tr>\n      <th>0</th>\n      <td>安徽省</td>\n      <td>安徽</td>\n      <td>POLYGON ((1024567.540 3756081.292, 1029352.023...</td>\n    </tr>\n    <tr>\n      <th>1</th>\n      <td>北京市</td>\n      <td>北京</td>\n      <td>POLYGON ((1042330.841 4441044.906, 1042940.767...</td>\n    </tr>\n    <tr>\n      <th>2</th>\n      <td>福建省</td>\n      <td>福建</td>\n      <td>MULTIPOLYGON (((1256838.615 2541167.263, 12568...</td>\n    </tr>\n    <tr>\n      <th>3</th>\n      <td>甘肃省</td>\n      <td>甘肃</td>\n      <td>POLYGON ((-233591.319 3580532.440, -231837.893...</td>\n    </tr>\n    <tr>\n      <th>4</th>\n      <td>广西壮族自治区</td>\n      <td>广西</td>\n      <td>MULTIPOLYGON (((444910.642 2178110.455, 443968...</td>\n    </tr>\n    <tr>\n      <th>5</th>\n      <td>贵州省</td>\n      <td>贵州</td>\n      <td>MULTIPOLYGON (((453592.315 2822530.586, 451397...</td>\n    </tr>\n    <tr>\n      <th>6</th>\n      <td>海南省</td>\n      <td>海南</td>\n      <td>MULTIPOLYGON (((991858.829 667908.424, 991670....</td>\n    </tr>\n    <tr>\n      <th>7</th>\n      <td>河北省</td>\n      <td>河北</td>\n      <td>MULTIPOLYGON (((1102148.307 4172439.614, 11018...</td>\n    </tr>\n    <tr>\n      <th>8</th>\n      <td>河南省</td>\n      <td>河南</td>\n      <td>POLYGON ((548698.698 3559280.707, 548717.609 3...</td>\n    </tr>\n    <tr>\n      <th>9</th>\n      <td>黑龙江省</td>\n      <td>黑龙江</td>\n      <td>POLYGON ((1413290.949 5207360.672, 1412340.803...</td>\n    </tr>\n    <tr>\n      <th>10</th>\n      <td>湖北省</td>\n      <td>湖北</td>\n      <td>POLYGON ((775845.863 3144347.128, 774886.177 3...</td>\n    </tr>\n    <tr>\n      <th>11</th>\n      <td>湖南省</td>\n      <td>湖南</td>\n      <td>POLYGON ((674998.460 3175096.053, 676535.537 3...</td>\n    </tr>\n    <tr>\n      <th>12</th>\n      <td>吉林省</td>\n      <td>吉林</td>\n      <td>POLYGON ((1597273.189 4796720.902, 1596857.153...</td>\n    </tr>\n    <tr>\n      <th>13</th>\n      <td>江苏省</td>\n      <td>江苏</td>\n      <td>MULTIPOLYGON (((1539381.411 3498441.819, 15391...</td>\n    </tr>\n    <tr>\n      <th>14</th>\n      <td>江西省</td>\n      <td>江西</td>\n      <td>POLYGON ((1002807.071 3211272.243, 1011210.998...</td>\n    </tr>\n    <tr>\n      <th>15</th>\n      <td>辽宁省</td>\n      <td>辽宁</td>\n      <td>MULTIPOLYGON (((1416287.561 4282392.186, 14160...</td>\n    </tr>\n    <tr>\n      <th>16</th>\n      <td>内蒙古自治区</td>\n      <td>内蒙古</td>\n      <td>POLYGON ((521688.068 4266483.319, 521205.153 4...</td>\n    </tr>\n    <tr>\n      <th>17</th>\n      <td>宁夏回族自治区</td>\n      <td>宁夏</td>\n      <td>POLYGON ((66253.428 4055361.636, 69764.981 406...</td>\n    </tr>\n    <tr>\n      <th>18</th>\n      <td>青海省</td>\n      <td>青海</td>\n      <td>POLYGON ((-348385.624 3609937.905, -348205.286...</td>\n    </tr>\n    <tr>\n      <th>19</th>\n      <td>山东省</td>\n      <td>山东</td>\n      <td>MULTIPOLYGON (((1326418.816 3907490.983, 13262...</td>\n    </tr>\n    <tr>\n      <th>20</th>\n      <td>山西省</td>\n      <td>山西</td>\n      <td>POLYGON ((755092.432 4404092.537, 756784.661 4...</td>\n    </tr>\n    <tr>\n      <th>21</th>\n      <td>陕西省</td>\n      <td>陕西</td>\n      <td>POLYGON ((521688.068 4266483.319, 518496.516 4...</td>\n    </tr>\n    <tr>\n      <th>22</th>\n      <td>上海市</td>\n      <td>上海</td>\n      <td>MULTIPOLYGON (((1548183.511 3380190.060, 15479...</td>\n    </tr>\n    <tr>\n      <th>23</th>\n      <td>四川省</td>\n      <td>四川</td>\n      <td>POLYGON ((-458884.762 2933557.434, -460938.421...</td>\n    </tr>\n    <tr>\n      <th>24</th>\n      <td>台湾省</td>\n      <td>台湾</td>\n      <td>MULTIPOLYGON (((1646103.286 2390734.826, 16459...</td>\n    </tr>\n    <tr>\n      <th>25</th>\n      <td>天津市</td>\n      <td>天津</td>\n      <td>POLYGON ((998261.042 4316297.010, 1000537.235 ...</td>\n    </tr>\n    <tr>\n      <th>26</th>\n      <td>西藏自治区</td>\n      <td>西藏</td>\n      <td>POLYGON ((-672942.025 3485249.940, -670443.696...</td>\n    </tr>\n    <tr>\n      <th>27</th>\n      <td>香港特别行政区</td>\n      <td>香港</td>\n      <td>MULTIPOLYGON (((926587.291 2347058.835, 925079...</td>\n    </tr>\n    <tr>\n      <th>28</th>\n      <td>新疆维吾尔自治区</td>\n      <td>新疆</td>\n      <td>POLYGON ((-1198934.131 5286582.051, -1199018.2...</td>\n    </tr>\n    <tr>\n      <th>29</th>\n      <td>云南省</td>\n      <td>云南</td>\n      <td>POLYGON ((-405685.315 2272230.080, -405937.703...</td>\n    </tr>\n    <tr>\n      <th>30</th>\n      <td>浙江省</td>\n      <td>浙江</td>\n      <td>MULTIPOLYGON (((1521122.960 2974343.934, 15209...</td>\n    </tr>\n    <tr>\n      <th>31</th>\n      <td>重庆市</td>\n      <td>重庆</td>\n      <td>POLYGON ((326810.561 3430947.752, 328389.565 3...</td>\n    </tr>\n    <tr>\n      <th>32</th>\n      <td>广东省</td>\n      <td>广东</td>\n      <td>MULTIPOLYGON (((522392.577 2106680.661, 522198...</td>\n    </tr>\n    <tr>\n      <th>33</th>\n      <td>澳门特别行政区</td>\n      <td>澳门</td>\n      <td>MULTIPOLYGON (((892036.414 2339196.614, 891101...</td>\n    </tr>\n  </tbody>\n</table>\n</div>"
     },
     "metadata": {},
     "execution_count": 2
    }
   ],
   "source": [
    "#看看数据\n",
    "provinces"
   ]
  },
  {
   "cell_type": "code",
   "execution_count": 3,
   "metadata": {},
   "outputs": [
    {
     "output_type": "execute_result",
     "data": {
      "text/plain": [
       "     OBJECTID       NAME  Shape_Leng  \\\n",
       "0           1      101国道    9.429789   \n",
       "1           2      102国道   13.050235   \n",
       "2           3      103国道    1.390717   \n",
       "3           4  104,318国道    0.250979   \n",
       "4           5      104国道   20.427363   \n",
       "..        ...        ...         ...   \n",
       "142       143        过境线    0.012557   \n",
       "143       144        沪闵路    0.085532   \n",
       "144       145      沪青平公路    0.582427   \n",
       "145       146       沪宜公路    0.239050   \n",
       "146       147       亭枫公路    0.330664   \n",
       "\n",
       "                                              geometry  \n",
       "0    MULTILINESTRING ((970643.565 4363837.486, 9710...  \n",
       "1    MULTILINESTRING ((1106607.123 4353213.493, 110...  \n",
       "2    MULTILINESTRING ((1048917.555 4263177.733, 104...  \n",
       "3    LINESTRING (1401705.505 3392541.191, 1401794.4...  \n",
       "4    MULTILINESTRING ((1439939.865 2954512.758, 144...  \n",
       "..                                                 ...  \n",
       "142  LINESTRING (563658.804 2225953.164, 563780.907...  \n",
       "143  LINESTRING (1540253.670 3419158.259, 1540242.7...  \n",
       "144  MULTILINESTRING ((1493713.320 3408841.041, 149...  \n",
       "145  LINESTRING (1526448.213 3444470.180, 1526414.5...  \n",
       "146  LINESTRING (1535147.981 3401154.870, 1535105.8...  \n",
       "\n",
       "[147 rows x 4 columns]"
      ],
      "text/html": "<div>\n<style scoped>\n    .dataframe tbody tr th:only-of-type {\n        vertical-align: middle;\n    }\n\n    .dataframe tbody tr th {\n        vertical-align: top;\n    }\n\n    .dataframe thead th {\n        text-align: right;\n    }\n</style>\n<table border=\"1\" class=\"dataframe\">\n  <thead>\n    <tr style=\"text-align: right;\">\n      <th></th>\n      <th>OBJECTID</th>\n      <th>NAME</th>\n      <th>Shape_Leng</th>\n      <th>geometry</th>\n    </tr>\n  </thead>\n  <tbody>\n    <tr>\n      <th>0</th>\n      <td>1</td>\n      <td>101国道</td>\n      <td>9.429789</td>\n      <td>MULTILINESTRING ((970643.565 4363837.486, 9710...</td>\n    </tr>\n    <tr>\n      <th>1</th>\n      <td>2</td>\n      <td>102国道</td>\n      <td>13.050235</td>\n      <td>MULTILINESTRING ((1106607.123 4353213.493, 110...</td>\n    </tr>\n    <tr>\n      <th>2</th>\n      <td>3</td>\n      <td>103国道</td>\n      <td>1.390717</td>\n      <td>MULTILINESTRING ((1048917.555 4263177.733, 104...</td>\n    </tr>\n    <tr>\n      <th>3</th>\n      <td>4</td>\n      <td>104,318国道</td>\n      <td>0.250979</td>\n      <td>LINESTRING (1401705.505 3392541.191, 1401794.4...</td>\n    </tr>\n    <tr>\n      <th>4</th>\n      <td>5</td>\n      <td>104国道</td>\n      <td>20.427363</td>\n      <td>MULTILINESTRING ((1439939.865 2954512.758, 144...</td>\n    </tr>\n    <tr>\n      <th>...</th>\n      <td>...</td>\n      <td>...</td>\n      <td>...</td>\n      <td>...</td>\n    </tr>\n    <tr>\n      <th>142</th>\n      <td>143</td>\n      <td>过境线</td>\n      <td>0.012557</td>\n      <td>LINESTRING (563658.804 2225953.164, 563780.907...</td>\n    </tr>\n    <tr>\n      <th>143</th>\n      <td>144</td>\n      <td>沪闵路</td>\n      <td>0.085532</td>\n      <td>LINESTRING (1540253.670 3419158.259, 1540242.7...</td>\n    </tr>\n    <tr>\n      <th>144</th>\n      <td>145</td>\n      <td>沪青平公路</td>\n      <td>0.582427</td>\n      <td>MULTILINESTRING ((1493713.320 3408841.041, 149...</td>\n    </tr>\n    <tr>\n      <th>145</th>\n      <td>146</td>\n      <td>沪宜公路</td>\n      <td>0.239050</td>\n      <td>LINESTRING (1526448.213 3444470.180, 1526414.5...</td>\n    </tr>\n    <tr>\n      <th>146</th>\n      <td>147</td>\n      <td>亭枫公路</td>\n      <td>0.330664</td>\n      <td>LINESTRING (1535147.981 3401154.870, 1535105.8...</td>\n    </tr>\n  </tbody>\n</table>\n<p>147 rows × 4 columns</p>\n</div>"
     },
     "metadata": {},
     "execution_count": 3
    }
   ],
   "source": [
    "#看看数据\n",
    "roads"
   ]
  },
  {
   "cell_type": "code",
   "execution_count": null,
   "metadata": {},
   "outputs": [],
   "source": []
  }
 ],
 "metadata": {
  "kernelspec": {
   "name": "python385jvsc74a57bd098b0a9b7b4eaaa670588a142fd0a9b87eaafe866f1db4228be72b4211d12040f",
   "display_name": "Python 3.8.5 64-bit ('base': conda)"
  },
  "language_info": {
   "codemirror_mode": {
    "name": "ipython",
    "version": 3
   },
   "file_extension": ".py",
   "mimetype": "text/x-python",
   "name": "python",
   "nbconvert_exporter": "python",
   "pygments_lexer": "ipython3",
   "version": "3.8.5"
  }
 },
 "nbformat": 4,
 "nbformat_minor": 4
}