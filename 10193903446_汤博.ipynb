{
 "cells": [
  {
   "source": [
    "## 第一次作业"
   ],
   "cell_type": "markdown",
   "metadata": {}
  },
  {
   "cell_type": "code",
   "execution_count": 1,
   "metadata": {},
   "outputs": [
    {
     "output_type": "stream",
     "name": "stdout",
     "text": [
      "x:13358338.89,y:3503549.84\n"
     ]
    }
   ],
   "source": [
    "from math import *\n",
    "#WGS84经纬度坐标转Web墨卡托投影坐标\n",
    "def WGS84_to_WebM(lon,lat):\n",
    "    r = 20037508.34\n",
    "    x = (lon * r) / 180\n",
    "    y = log(tan(pi/4 + lat * pi /360))* r / pi\n",
    "    return x,y\n",
    "#location是输入信息\n",
    "location = input(\"输入经度和纬度坐标（之间用逗号分隔）：\")\n",
    "#截取lon,lat为经纬度坐标\n",
    "lon, lat = location.split(',')\n",
    "#格式处理\n",
    "lon=eval(lon)\n",
    "lat=eval(lat)\n",
    "#坐标转换\n",
    "x,y=WGS84_to_WebM(lon,lat)\n",
    "#输出坐标\n",
    "print(\"x:{:.2f},y:{:.2f}\".format(x,y))"
   ]
  },
  {
   "cell_type": "code",
   "execution_count": 11,
   "metadata": {},
   "outputs": [
    {
     "name": "stdout",
     "output_type": "stream",
     "text": [
      "输入x和y投影坐标（之间用逗号分隔）：13358338,3503549\n",
      "经度:120.00,纬度:30.00\n"
     ]
    }
   ],
   "source": [
    "from math import *\n",
    "#Web墨卡托投影坐标转WGS84经纬度坐标\n",
    "def WebM_to_WGS84(x,y):\n",
    "    r = 20037508.34\n",
    "    lon = (x * 180) / r\n",
    "    lat = atan(e ** (y * pi / r)) * 360 / pi - 90\n",
    "    return lon,lat\n",
    "#location是输入信息\n",
    "location = input(\"输入x和y投影坐标（之间用逗号分隔）：\")\n",
    "#截取lon,lat为经纬度坐标\n",
    "x, y = location.split(',')\n",
    "#格式处理\n",
    "x=eval(x)\n",
    "y=eval(y)\n",
    "#坐标转换\n",
    "lon,lat=WebM_to_WGS84(x,y)\n",
    "#输出坐标\n",
    "print(\"经度:{:.2f},纬度:{:.2f}\".format(lon,lat))"
   ]
  },
  {
   "source": [
    "## 第二次作业"
   ],
   "cell_type": "markdown",
   "metadata": {}
  },
  {
   "cell_type": "code",
   "execution_count": 3,
   "metadata": {},
   "outputs": [],
   "source": [
    "from math import *\n",
    "import requests\n",
    "for z in [15]:\n",
    "    #设置坐标范围\n",
    "    Xmin=13518000\n",
    "    Xmax=13521000\n",
    "    Ymin=3636000\n",
    "    Ymax=3638100\n",
    "    #d为缩放比例尺\n",
    "    d = 40075014/(2**int(z))\n",
    "    #计算相对应的行列数\n",
    "    rowYmin = int((20037507-Ymax)/d)\n",
    "    rowYmax = int((20037507-Ymin)/d)\n",
    "    colXmin = int((Xmin-(-20037507))/d)\n",
    "    colXmax = int((Xmax-(-20037507))/d)\n",
    "    #循环得到各自地图切片\n",
    "    for x in range(colXmin, colXmax+1):\n",
    "        for y in range(rowYmin,rowYmax+1):\n",
    "            #写入图片\n",
    "            url = f\"https://a.tile.openstreetmap.org/{z}/{x}/{y}.png\"\n",
    "            response = requests.get(url)\n",
    "            f = open(f\"{z}_{x}_{y}.png\", \"wb\")\n",
    "            f.write(response.content)\n",
    "            f.close()\n",
    "            #写入world文件\n",
    "            LU_y = 20037507 - (d*y)\n",
    "            LU_x = (d*x) - 20037507\n",
    "            x_resolution = d/256\n",
    "            y_resolution = d/256\n",
    "            text = f\"{x_resolution}\\n0\\n0\\n-{y_resolution}\\n{LU_x}\\n{LU_y}\"\n",
    "            f = open(f\"{z}_{x}_{y}.pngw\", \"w\")\n",
    "            f.write(text)\n",
    "            f.close()\n"
   ]
  },
  {
   "source": [
    "## 第三次作业"
   ],
   "cell_type": "markdown",
   "metadata": {}
  },
  {
   "source": [
    "### 因为我的anaconda烂了，我的pyproj是在Docker里安装的，代码也是在Docker里写的，然后Docker配置里自动下载的pyproj版本是2.6，比现在的3要低，所以有些函数用不了（比如说老师给的pyproj.list.get_proj_operations_map()，我只能用pyproj.get_proj_operations_map()，虽然他们的效果是一样的\n",
    "### 都怪python库里面的版本不兼容！！！\n",
    "### 如果老师和助教感兴趣的话，可以帮忙看看我封装好的Docker环境qwq\n",
    "### 在VSCode里打开然后reopen in docker container就可以了"
   ],
   "cell_type": "markdown",
   "metadata": {}
  },
  {
   "source": [
    "### 1）根据上海2000坐标系的定义，构建上海2000坐标系的proj4字符串或字典。\n"
   ],
   "cell_type": "markdown",
   "metadata": {}
  },
  {
   "source": [
    "####  以东经121°27′52″为中央子午线的高斯-克吕格投影坐标系统，计算东经121°28′01″、北纬31°14′07″点的投影坐标（x和y），然后在已定义的高斯-克吕格投影坐标系统中增加东偏（x_0）和北偏（y_0）参数，参数值分别为-x和-y（精度保留到厘米）。\n",
    "#### 以东经121°27′52″作为中央子午线，坐标系统原点位于东经121°28′01″与北纬31°14′07″的交点，采用的地球椭球体与国家的CGCS2000参考框架一致（地球椭球体参数与WGS84基本一致）。"
   ],
   "cell_type": "markdown",
   "metadata": {}
  },
  {
   "cell_type": "code",
   "execution_count": 60,
   "metadata": {},
   "outputs": [
    {
     "output_type": "stream",
     "name": "stdout",
     "text": [
      "epsg:4490\n",
      "{'proj': 'longlat', 'ellps': 'GRS80', 'no_defs': None, 'type': 'crs'}\n",
      "+proj=longlat +ellps=GRS80 +no_defs +type=crs\n",
      "GEOGCRS[\"China Geodetic Coordinate System 2000\",DATUM[\"China 2000\",ELLIPSOID[\"CGCS2000\",6378137,298.257222101,LENGTHUNIT[\"metre\",1]]],PRIMEM[\"Greenwich\",0,ANGLEUNIT[\"degree\",0.0174532925199433]],CS[ellipsoidal,2],AXIS[\"geodetic latitude (Lat)\",north,ORDER[1],ANGLEUNIT[\"degree\",0.0174532925199433]],AXIS[\"geodetic longitude (Lon)\",east,ORDER[2],ANGLEUNIT[\"degree\",0.0174532925199433]],USAGE[SCOPE[\"unknown\"],AREA[\"China\"],BBOX[16.7,73.62,53.56,134.77]],ID[\"EPSG\",4490]]\n",
      "/opt/conda/lib/python3.8/site-packages/pyproj/crs/crs.py:543: UserWarning: You will likely lose important projection information when converting to a PROJ string from another format. See: https://proj.org/faq.html#what-is-the-best-format-for-describing-coordinate-reference-systems\n",
      "  proj_string = self.to_proj4()\n",
      "<ipython-input-60-15afe3dd4f0c>:5: UserWarning: You will likely lose important projection information when converting to a PROJ string from another format. See: https://proj.org/faq.html#what-is-the-best-format-for-describing-coordinate-reference-systems\n",
      "  print(crs2.to_proj4())\n"
     ]
    },
    {
     "output_type": "execute_result",
     "data": {
      "text/plain": [
       "'GEOGCRS[\"China Geodetic Coordinate System 2000\",DATUM[\"China 2000\",ELLIPSOID[\"CGCS2000\",6378137,298.257222101,LENGTHUNIT[\"metre\",1]]],PRIMEM[\"Greenwich\",0,ANGLEUNIT[\"degree\",0.0174532925199433]],CS[ellipsoidal,2],AXIS[\"geodetic latitude (Lat)\",north,ORDER[1],ANGLEUNIT[\"degree\",0.0174532925199433]],AXIS[\"geodetic longitude (Lon)\",east,ORDER[2],ANGLEUNIT[\"degree\",0.0174532925199433]],USAGE[SCOPE[\"unknown\"],AREA[\"China\"],BBOX[16.7,73.62,53.56,134.77]],ID[\"EPSG\",4490]]'"
      ]
     },
     "metadata": {},
     "execution_count": 60
    }
   ],
   "source": [
    "#观察一下CGS2000的具体信息\n",
    "crs2=CRS.from_epsg(4490)\n",
    "print(crs2)\n",
    "print(crs2.to_dict())\n",
    "print(crs2.to_proj4())\n",
    "print(crs2.to_wkt())\n",
    "crs2.to_wkt()"
   ]
  },
  {
   "cell_type": "code",
   "execution_count": 49,
   "metadata": {},
   "outputs": [
    {
     "output_type": "stream",
     "name": "stdout",
     "text": [
      "东经121°28′01″、北纬31°14′07″点的投影坐标\nx:238.18,y:3457059.92\n"
     ]
    }
   ],
   "source": [
    "from pyproj import CRS, Transformer\n",
    "#CRS.from_epsg(2346)\n",
    "\n",
    "dc={'proj': 'tmerc',  'lon_0': 121.4644444, 'k': 1, 'x_0': 0, 'y_0': 0, 'ellps': 'GRS80','units': 'm', 'no_defs': None, 'type': 'crs'}\n",
    "transformer = Transformer.from_crs(4490,dc,always_xy=True)\n",
    "transed=transformer.transform(121.46694444444445,31.235277777777778)\n",
    "print(\"东经121°28′01″、北纬31°14′07″点的投影坐标\\nx:{:.2f},y:{:.2f}\".format(transed[0],transed[1]))\n",
    "#因为datum里找不到CGS2000所对应的值，所以在定义字典的时候没有加上datum的信息，我决定让他默认定义了\n",
    "#椭球体采用GRS80是因为在查询CGS2000的信息的时候（使用了crs.to_proj4查看椭球体信息，然后发现居然不是WGS84，是GRS80，为了尊重“采用的地球椭球体与国家的CGCS2000参考框架一致”的要求，我就用GRS80啦\n",
    "#顺便，通过wkt文本查看的CGCS2000的椭球体的参数和ArcGIS里的参数不一样……我使用已经定义好的CGCS2000了，也可以使用长短轴定义，但怕字典过长不好修改就算了"
   ]
  },
  {
   "cell_type": "code",
   "execution_count": 61,
   "metadata": {},
   "outputs": [
    {
     "output_type": "execute_result",
     "data": {
      "text/plain": [
       "{'proj': 'tmerc',\n",
       " 'lat_0': 31.2352777,\n",
       " 'lon_0': 121.4644444,\n",
       " 'k': 1,\n",
       " 'x_0': -238.18,\n",
       " 'y_0': -3457059.92,\n",
       " 'ellps': 'GRS80',\n",
       " 'units': 'm',\n",
       " 'no_defs': None,\n",
       " 'type': 'crs'}"
      ]
     },
     "metadata": {},
     "execution_count": 61
    }
   ],
   "source": [
    "SHdict={'proj': 'tmerc', 'lat_0': 31.2352777, 'lon_0': 121.4644444, 'k': 1, 'x_0': -238.18, 'y_0': -3457059.92, 'ellps': 'GRS80', 'units': 'm', 'no_defs': None, 'type': 'crs'}\n",
    "SHdict"
   ]
  },
  {
   "source": [
    "### 2）产生上海2000坐标系的wkt crs文本（WKT1_ESRI版本）。\n"
   ],
   "cell_type": "markdown",
   "metadata": {}
  },
  {
   "cell_type": "code",
   "execution_count": 62,
   "metadata": {},
   "outputs": [
    {
     "output_type": "stream",
     "name": "stdout",
     "text": [
      "上海2000坐标系的wkt crs文本（WKT1_ESRI版本）\n\nPROJCS[\"unknown\",\n    GEOGCS[\"GCS_unknown\",\n        DATUM[\"D_Unknown_based_on_GRS80_ellipsoid\",\n            SPHEROID[\"GRS_1980\",6378137.0,298.257222101]],\n        PRIMEM[\"Greenwich\",0.0],\n        UNIT[\"Degree\",0.0174532925199433]],\n    PROJECTION[\"Transverse_Mercator\"],\n    PARAMETER[\"False_Easting\",-238.18],\n    PARAMETER[\"False_Northing\",-3457059.92],\n    PARAMETER[\"Central_Meridian\",121.4644444],\n    PARAMETER[\"Scale_Factor\",1.0],\n    PARAMETER[\"Latitude_Of_Origin\",31.2352777],\n    UNIT[\"Meter\",1.0]]\n"
     ]
    }
   ],
   "source": [
    "from pyproj import CRS\n",
    "from pyproj.enums import WktVersion\n",
    "crs = CRS.from_dict(SHdict)\n",
    "#crs = CRS.from_epsg(4490)\n",
    "print(\"上海2000坐标系的wkt crs文本（WKT1_ESRI版本）\\n\")\n",
    "print(crs.to_wkt(version=WktVersion.WKT1_ESRI,pretty=True))\n",
    "#参考了老师放在ppt里的代码XD"
   ]
  },
  {
   "source": [
    "### 3）计算某个点（121.456,31.038，CGCS 2000地理坐标）的上海2000坐标。\n"
   ],
   "cell_type": "markdown",
   "metadata": {}
  },
  {
   "cell_type": "code",
   "execution_count": 63,
   "metadata": {},
   "outputs": [
    {
     "output_type": "stream",
     "name": "stdout",
     "text": [
      " 2000地理坐标（121.456,31.038，CGCS）的上海2000坐标:\nx:-1044.34,y:-3478932.43\n"
     ]
    }
   ],
   "source": [
    "from pyproj import Transformer\n",
    "transformer = Transformer.from_crs(4490,SHdict,always_xy=True)\n",
    "plot = transformer.transform(121.456,31.038)\n",
    "print(\" 2000地理坐标（121.456,31.038，CGCS）的上海2000坐标:\\nx:{:.2f},y:{:.2f}\".format(plot[0],plot[1]))"
   ]
  },
  {
   "source": [
    "### 4）如proj4字符串或字典中的地球椭球体改为IAU76，分析一下同个点的投影值差异（与地球椭球体为WGS84）.\n"
   ],
   "cell_type": "markdown",
   "metadata": {}
  },
  {
   "cell_type": "code",
   "execution_count": 66,
   "metadata": {},
   "outputs": [
    {
     "output_type": "stream",
     "name": "stdout",
     "text": [
      "WGS84: (499193.8437847696, -21872.506261482235)\n WGS84椭球体（121.456,31.038，CGCS）的投影后坐标:\nx:499193.84,y:-21872.51\n IAU76椭球体（121.456,31.038，CGCS）的投影后坐标:\nx:499193.84,y:-21872.52\n"
     ]
    }
   ],
   "source": [
    "from pyproj import Transformer\n",
    "SHdict={'proj': 'tmerc', 'lat_0': 31.2352777, 'lon_0': 121.4644444, 'k': 1, 'x_0': 500000, 'y_0': 0, 'ellps': 'WGS84',  'units': 'm', 'no_defs': None, 'type': 'crs'}\n",
    "SHdict2={'proj': 'tmerc', 'lat_0': 31.2352777, 'lon_0': 121.4644444, 'k': 1, 'x_0': 500000, 'y_0': 0, 'ellps': 'IAU76', 'units': 'm', 'no_defs': None, 'type': 'crs'}\n",
    "transformer1 = Transformer.from_crs(4490,SHdict,always_xy=True)\n",
    "transformer2 = Transformer.from_crs(4490,SHdict2,always_xy=True)\n",
    "plot1 = transformer1.transform(121.456,31.038)\n",
    "plot2 = transformer2.transform(121.456,31.038)\n",
    "print(\"WGS84:\",plot1)\n",
    "print(\" WGS84椭球体（121.456,31.038，CGCS）的投影后坐标:\\nx:{:.2f},y:{:.2f}\".format(plot1[0],plot1[1]))\n",
    "print(\" IAU76椭球体（121.456,31.038，CGCS）的投影后坐标:\\nx:{:.2f},y:{:.2f}\".format(plot2[0],plot2[1]))"
   ]
  },
  {
   "source": [
    "### 5）计算两个点（121.456，31.038；121.399，31.064，均为CGCS 2000地理坐标）投影到上海2000坐标系后的距离和投影到高斯-克吕格坐标系（epsg编码值为2346）后的距离差异。\n"
   ],
   "cell_type": "markdown",
   "metadata": {}
  },
  {
   "cell_type": "code",
   "execution_count": 67,
   "metadata": {},
   "outputs": [
    {
     "output_type": "stream",
     "name": "stdout",
     "text": [
      "投影到上海2000坐标系后的距离:6157.30m\n投影到高斯-克吕格坐标系后的距离:6159.01m\n距离差异：1.71m\n"
     ]
    }
   ],
   "source": [
    "from pyproj import Transformer\n",
    "from math import *\n",
    "SHdict={'proj': 'tmerc', 'lat_0': 31.2352777, 'lon_0': 121.4644444, 'k': 1, 'x_0': 500000, 'y_0': 0, 'ellps': 'WGS84', 'datum':'WGS84', 'units': 'm', 'no_defs': None, 'type': 'crs'}\n",
    "#两个坐标\n",
    "spot1 =(121.456,31.038)\n",
    "spot2 = (121.399,31.064)\n",
    "#定义两个Transformer\n",
    "transformer1 = Transformer.from_crs(4490,SHdict,always_xy=True)\n",
    "transformer2 = Transformer.from_crs(4490,2346,always_xy=True)\n",
    "#投影到上海2000坐标系后的坐标点\n",
    "psot1=transformer1.transform(spot1[0],spot1[1])\n",
    "psot2=transformer1.transform(spot2[0],spot2[1])\n",
    "#投影到高斯-克吕格坐标系后的坐标点\n",
    "ppot1=transformer2.transform(spot1[0],spot1[1])\n",
    "ppot2=transformer2.transform(spot2[0],spot2[1])\n",
    "#计算距离\n",
    "distance1=sqrt((psot1[0]-psot2[0])**2+(psot1[1]-psot2[1])**2)\n",
    "distance2=sqrt((ppot1[0]-ppot2[0])**2+(ppot1[1]-ppot2[1])**2)\n",
    "#输出\n",
    "print(\"投影到上海2000坐标系后的距离:{:.2f}m\".format(distance1))\n",
    "print(\"投影到高斯-克吕格坐标系后的距离:{:.2f}m\".format(distance2))\n",
    "print(\"距离差异：{:.2f}m\".format(abs(distance1-distance2)))"
   ]
  },
  {
   "source": [
    "#### 保留的函数\n"
   ],
   "cell_type": "markdown",
   "metadata": {}
  },
  {
   "cell_type": "code",
   "execution_count": 56,
   "metadata": {},
   "outputs": [
    {
     "output_type": "execute_result",
     "data": {
      "text/plain": [
       "{'adams_hemi': 'Adams Hemisphere in a Square',\n",
       " 'adams_ws1': 'Adams World in a Square I',\n",
       " 'adams_ws2': 'Adams World in a Square II',\n",
       " 'aea': 'Albers Equal Area',\n",
       " 'aeqd': 'Azimuthal Equidistant',\n",
       " 'affine': 'Affine transformation',\n",
       " 'airy': 'Airy',\n",
       " 'aitoff': 'Aitoff',\n",
       " 'alsk': 'Mod. Stereographic of Alaska',\n",
       " 'apian': 'Apian Globular I',\n",
       " 'august': 'August Epicycloidal',\n",
       " 'axisswap': 'Axis ordering',\n",
       " 'bacon': 'Bacon Globular',\n",
       " 'bertin1953': 'Bertin 1953',\n",
       " 'bipc': 'Bipolar conic of western hemisphere',\n",
       " 'boggs': 'Boggs Eumorphic',\n",
       " 'bonne': 'Bonne (Werner lat_1=90)',\n",
       " 'calcofi': 'Cal Coop Ocean Fish Invest Lines/Stations',\n",
       " 'cart': 'Geodetic/cartesian conversions',\n",
       " 'cass': 'Cassini',\n",
       " 'cc': 'Central Cylindrical',\n",
       " 'ccon': 'Central Conic',\n",
       " 'cea': 'Equal Area Cylindrical',\n",
       " 'chamb': 'Chamberlin Trimetric',\n",
       " 'collg': 'Collignon',\n",
       " 'comill': 'Compact Miller',\n",
       " 'crast': 'Craster Parabolic (Putnins P4)',\n",
       " 'defmodel': 'Deformation model',\n",
       " 'deformation': 'Kinematic grid shift',\n",
       " 'denoy': 'Denoyer Semi-Elliptical',\n",
       " 'eck1': 'Eckert I',\n",
       " 'eck2': 'Eckert II',\n",
       " 'eck3': 'Eckert III',\n",
       " 'eck4': 'Eckert IV',\n",
       " 'eck5': 'Eckert V',\n",
       " 'eck6': 'Eckert VI',\n",
       " 'eqearth': 'Equal Earth',\n",
       " 'eqc': 'Equidistant Cylindrical (Plate Carree)',\n",
       " 'eqdc': 'Equidistant Conic',\n",
       " 'euler': 'Euler',\n",
       " 'etmerc': 'Extended Transverse Mercator',\n",
       " 'fahey': 'Fahey',\n",
       " 'fouc': 'Foucaut',\n",
       " 'fouc_s': 'Foucaut Sinusoidal',\n",
       " 'gall': 'Gall (Gall Stereographic)',\n",
       " 'geoc': 'Geocentric Latitude',\n",
       " 'geocent': 'Geocentric',\n",
       " 'geogoffset': 'Geographic Offset',\n",
       " 'geos': 'Geostationary Satellite View',\n",
       " 'gins8': 'Ginsburg VIII (TsNIIGAiK)',\n",
       " 'gn_sinu': 'General Sinusoidal Series',\n",
       " 'gnom': 'Gnomonic',\n",
       " 'goode': 'Goode Homolosine',\n",
       " 'gs48': 'Mod. Stereographic of 48 U.S.',\n",
       " 'gs50': 'Mod. Stereographic of 50 U.S.',\n",
       " 'guyou': 'Guyou',\n",
       " 'hammer': 'Hammer & Eckert-Greifendorff',\n",
       " 'hatano': 'Hatano Asymmetrical Equal Area',\n",
       " 'healpix': 'HEALPix',\n",
       " 'rhealpix': 'rHEALPix',\n",
       " 'helmert': '3(6)-, 4(8)- and 7(14)-parameter Helmert shift',\n",
       " 'hgridshift': 'Horizontal grid shift',\n",
       " 'horner': 'Horner polynomial evaluation',\n",
       " 'igh': 'Interrupted Goode Homolosine',\n",
       " 'igh_o': 'Interrupted Goode Homolosine Oceanic View',\n",
       " 'imw_p': 'International Map of the World Polyconic',\n",
       " 'isea': 'Icosahedral Snyder Equal Area',\n",
       " 'kav5': 'Kavraisky V',\n",
       " 'kav7': 'Kavraisky VII',\n",
       " 'krovak': 'Krovak',\n",
       " 'labrd': 'Laborde',\n",
       " 'laea': 'Lambert Azimuthal Equal Area',\n",
       " 'lagrng': 'Lagrange',\n",
       " 'larr': 'Larrivee',\n",
       " 'lask': 'Laskowski',\n",
       " 'lonlat': 'Lat/long (Geodetic)',\n",
       " 'latlon': 'Lat/long (Geodetic alias)',\n",
       " 'latlong': 'Lat/long (Geodetic alias)',\n",
       " 'longlat': 'Lat/long (Geodetic alias)',\n",
       " 'lcc': 'Lambert Conformal Conic',\n",
       " 'lcca': 'Lambert Conformal Conic Alternative',\n",
       " 'leac': 'Lambert Equal Area Conic',\n",
       " 'lee_os': 'Lee Oblated Stereographic',\n",
       " 'loxim': 'Loximuthal',\n",
       " 'lsat': 'Space oblique for LANDSAT',\n",
       " 'mbt_s': 'McBryde-Thomas Flat-Polar Sine (No. 1)',\n",
       " 'mbt_fps': 'McBryde-Thomas Flat-Pole Sine (No. 2)',\n",
       " 'mbtfpp': 'McBride-Thomas Flat-Polar Parabolic',\n",
       " 'mbtfpq': 'McBryde-Thomas Flat-Polar Quartic',\n",
       " 'mbtfps': 'McBryde-Thomas Flat-Polar Sinusoidal',\n",
       " 'merc': 'Mercator',\n",
       " 'mil_os': 'Miller Oblated Stereographic',\n",
       " 'mill': 'Miller Cylindrical',\n",
       " 'misrsom': 'Space oblique for MISR',\n",
       " 'moll': 'Mollweide',\n",
       " 'molobadekas': 'Molodensky-Badekas transformation',\n",
       " 'molodensky': 'Molodensky transform',\n",
       " 'murd1': 'Murdoch I',\n",
       " 'murd2': 'Murdoch II',\n",
       " 'murd3': 'Murdoch III',\n",
       " 'natearth': 'Natural Earth',\n",
       " 'natearth2': 'Natural Earth 2',\n",
       " 'nell': 'Nell',\n",
       " 'nell_h': 'Nell-Hammer',\n",
       " 'nicol': 'Nicolosi Globular',\n",
       " 'nsper': 'Near-sided perspective',\n",
       " 'nzmg': 'New Zealand Map Grid',\n",
       " 'noop': 'No operation',\n",
       " 'ob_tran': 'General Oblique Transformation',\n",
       " 'ocea': 'Oblique Cylindrical Equal Area',\n",
       " 'oea': 'Oblated Equal Area',\n",
       " 'omerc': 'Oblique Mercator',\n",
       " 'ortel': 'Ortelius Oval',\n",
       " 'ortho': 'Orthographic',\n",
       " 'pconic': 'Perspective Conic',\n",
       " 'patterson': 'Patterson Cylindrical',\n",
       " 'peirce_q': 'Peirce Quincuncial',\n",
       " 'pipeline': 'Transformation pipeline manager',\n",
       " 'poly': 'Polyconic (American)',\n",
       " 'pop': 'Retrieve coordinate value from pipeline stack',\n",
       " 'push': 'Save coordinate value on pipeline stack',\n",
       " 'putp1': 'Putnins P1',\n",
       " 'putp2': 'Putnins P2',\n",
       " 'putp3': 'Putnins P3',\n",
       " 'putp3p': \"Putnins P3'\",\n",
       " 'putp4p': \"Putnins P4'\",\n",
       " 'putp5': 'Putnins P5',\n",
       " 'putp5p': \"Putnins P5'\",\n",
       " 'putp6': 'Putnins P6',\n",
       " 'putp6p': \"Putnins P6'\",\n",
       " 'qua_aut': 'Quartic Authalic',\n",
       " 'qsc': 'Quadrilateralized Spherical Cube',\n",
       " 'robin': 'Robinson',\n",
       " 'rouss': 'Roussilhe Stereographic',\n",
       " 'rpoly': 'Rectangular Polyconic',\n",
       " 'sch': 'Spherical Cross-track Height',\n",
       " 'set': 'Set coordinate value',\n",
       " 'sinu': 'Sinusoidal (Sanson-Flamsteed)',\n",
       " 'somerc': 'Swiss. Obl. Mercator',\n",
       " 'stere': 'Stereographic',\n",
       " 'sterea': 'Oblique Stereographic Alternative',\n",
       " 'gstmerc': 'Gauss-Schreiber Transverse Mercator (aka Gauss-Laborde Reunion)',\n",
       " 'tcc': 'Transverse Central Cylindrical',\n",
       " 'tcea': 'Transverse Cylindrical Equal Area',\n",
       " 'times': 'Times',\n",
       " 'tissot': 'Tissot',\n",
       " 'tmerc': 'Transverse Mercator',\n",
       " 'tobmerc': 'Tobler-Mercator',\n",
       " 'tpeqd': 'Two Point Equidistant',\n",
       " 'tpers': 'Tilted perspective',\n",
       " 'unitconvert': 'Unit conversion',\n",
       " 'ups': 'Universal Polar Stereographic',\n",
       " 'urm5': 'Urmaev V',\n",
       " 'urmfps': 'Urmaev Flat-Polar Sinusoidal',\n",
       " 'utm': 'Universal Transverse Mercator (UTM)',\n",
       " 'vandg': 'van der Grinten (I)',\n",
       " 'vandg2': 'van der Grinten II',\n",
       " 'vandg3': 'van der Grinten III',\n",
       " 'vandg4': 'van der Grinten IV',\n",
       " 'vitk1': 'Vitkovsky I',\n",
       " 'vgridshift': 'Vertical grid shift',\n",
       " 'wag1': 'Wagner I (Kavraisky VI)',\n",
       " 'wag2': 'Wagner II',\n",
       " 'wag3': 'Wagner III',\n",
       " 'wag4': 'Wagner IV',\n",
       " 'wag5': 'Wagner V',\n",
       " 'wag6': 'Wagner VI',\n",
       " 'wag7': 'Wagner VII',\n",
       " 'webmerc': 'Web Mercator / Pseudo Mercator',\n",
       " 'weren': 'Werenskiold I',\n",
       " 'wink1': 'Winkel I',\n",
       " 'wink2': 'Winkel II',\n",
       " 'wintri': 'Winkel Tripel',\n",
       " 'xyzgridshift': 'Geocentric grid shift'}"
      ]
     },
     "metadata": {},
     "execution_count": 56
    }
   ],
   "source": [
    "from pyproj import CRS\n",
    "import pyproj\n",
    "ProjDict=pyproj.get_proj_operations_map()\n",
    "MapList=pyproj.get_ellps_map()\n",
    "#MapList\n",
    "ProjDict"
   ]
  },
  {
   "source": [
    "## 第四次作业"
   ],
   "cell_type": "markdown",
   "metadata": {}
  },
  {
   "cell_type": "code",
   "execution_count": 2,
   "metadata": {},
   "outputs": [],
   "source": [
    "from osgeo import gdal\n",
    "import fiona\n",
    "from shapely.geometry import Point"
   ]
  },
  {
   "source": [
    "### 已有我国的地级市城市分布数据（china_city.shp）（图1），空间参照系统为Albers投影坐标（详见prj文件）。现要根据某个地震的发生位置（假定坐标为东经101度，北纬27度，空间参照系统为WGS84），提取位于该位置300公里范围内的城市，并产生一个shapefile文件（图2），同时打印输出城市名。"
   ],
   "cell_type": "markdown",
   "metadata": {}
  },
  {
   "source": [
    "### 1）输出文件的driver、schema、crs同china_city.shp，由于涉及汉字，需要定义encoding关键词参数为'utf8'。\n",
    "### 2）地震位置的坐标要转换成同china_city.shp一致的坐标参照系统。利用pyproj包Transformer模块中的from_crs(crs_from,crs_to)函数转换坐标时，crs参数可以是proj4字典，即Collection对象的crs属性值。\n",
    "### 3）操作结束后，应关闭Collection对象（利用Collection对象的close()方法）。\n",
    "### 4）输入输出文件放在和程序同个文件夹中，读写文件使用相对路径（文件名前不加路径）。\n"
   ],
   "cell_type": "markdown",
   "metadata": {}
  },
  {
   "cell_type": "code",
   "execution_count": 20,
   "metadata": {},
   "outputs": [],
   "source": [
    "# 引库\n",
    "import pprint\n",
    "import fiona\n",
    "from pyproj import CRS\n",
    "from pyproj import Transformer\n",
    "from shapely.geometry import Point\n",
    "\n",
    "# 打开源文件\n",
    "source = fiona.open('china_city.shp', 'r')\n",
    "source_driver = source.driver\n",
    "source_crs = sources.crs\n",
    "source_schema = source.schema\n",
    "\n",
    "# 给地震中心制作范围为300公里的buffer\n",
    "\n",
    "center = (101,27)\n",
    "# center的坐标是WGS84，EPSG编号4326，需要投影到的坐标是之前读取文件时读入的crs\n",
    "transformer = Transformer.from_crs(4326,crs,always_xy=True)\n",
    "# 投影到Albers坐标系后的坐标点\n",
    "pcenter=transformer.transform(center[0],center[1])\n",
    "cPoint = Point(pcenter)\n",
    "cBuffer = cPoint.buffer(300000)\n",
    "\n",
    "# 打开写入文件\n",
    "target = fiona.open('cities_affected.shp', 'w',\n",
    "                    driver=source_driver,\n",
    "                    crs=source_crs, \n",
    "                    schema=source_schema)\n",
    "\n",
    "for record in source:\n",
    "    coordinates = record['geometry']['coordinates']\n",
    "    if record['geometry']['type']=='LineString':\n",
    "        record_line = LineString(coordinates)\n",
    "    else:\n",
    "        lines = []\n",
    "        for part in coordinates:\n",
    "            line = LineString(part)\n",
    "            lines.append(line)\n",
    "        record_line = MultiLineString(lines)\n",
    "    if record_line.intersects(cBuffer):\n",
    "        target.write(record)\n",
    "# 关闭文件\n",
    "target.close()\n",
    "source.close()\n"
   ]
  },
  {
   "cell_type": "code",
   "execution_count": 22,
   "metadata": {},
   "outputs": [],
   "source": [
    "# 打开prj读入crs的情况\n",
    "# ff=open('china_city.prj', 'r')\n",
    "# crs= CRS.from_wkt(ff.read())\n",
    "# crs\n",
    "\n",
    "# 查看shp中的所有记录\n",
    "# for record in cities:\n",
    "#     NAME = record['properties']['city_name']\n",
    "#     Lon = record['properties']['Lon']\n",
    "#     Lat = record['properties']['Lat']\n",
    "#     coordinates = record['geometry']['coordinates']\n",
    "#     print(f'{NAME}:{Lon},{Lat}')"
   ]
  }
 ],
 "metadata": {
  "kernelspec": {
   "name": "python385jvsc74a57bd098b0a9b7b4eaaa670588a142fd0a9b87eaafe866f1db4228be72b4211d12040f",
   "display_name": "Python 3.8.5 64-bit"
  },
  "language_info": {
   "codemirror_mode": {
    "name": "ipython",
    "version": 3
   },
   "file_extension": ".py",
   "mimetype": "text/x-python",
   "name": "python",
   "nbconvert_exporter": "python",
   "pygments_lexer": "ipython3",
   "version": "3.8.5-final"
  }
 },
 "nbformat": 4,
 "nbformat_minor": 4
}