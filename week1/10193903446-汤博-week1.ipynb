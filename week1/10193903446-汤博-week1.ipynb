{
 "cells": [
  {
   "cell_type": "code",
   "execution_count": 1,
   "metadata": {},
   "outputs": [
    {
     "output_type": "stream",
     "name": "stdout",
     "text": [
      "x:13358338.89,y:3503549.84\n"
     ]
    }
   ],
   "source": [
    "from math import *\n",
    "#WGS84经纬度坐标转Web墨卡托投影坐标\n",
    "def WGS84_to_WebM(lon,lat):\n",
    "    r = 20037508.34\n",
    "    x = (lon * r) / 180\n",
    "    y = log(tan(pi/4 + lat * pi /360))* r / pi\n",
    "    return x,y\n",
    "#location是输入信息\n",
    "location = input(\"输入经度和纬度坐标（之间用逗号分隔）：\")\n",
    "#截取lon,lat为经纬度坐标\n",
    "lon, lat = location.split(',')\n",
    "#格式处理\n",
    "lon=eval(lon)\n",
    "lat=eval(lat)\n",
    "#坐标转换\n",
    "x,y=WGS84_to_WebM(lon,lat)\n",
    "#输出坐标\n",
    "print(\"x:{:.2f},y:{:.2f}\".format(x,y))"
   ]
  },
  {
   "cell_type": "code",
   "execution_count": 11,
   "metadata": {},
   "outputs": [
    {
     "name": "stdout",
     "output_type": "stream",
     "text": [
      "输入x和y投影坐标（之间用逗号分隔）：13358338,3503549\n",
      "经度:120.00,纬度:30.00\n"
     ]
    }
   ],
   "source": [
    "from math import *\n",
    "#Web墨卡托投影坐标转WGS84经纬度坐标\n",
    "def WebM_to_WGS84(x,y):\n",
    "    r = 20037508.34\n",
    "    lon = (x * 180) / r\n",
    "    lat = atan(e ** (y * pi / r)) * 360 / pi - 90\n",
    "    return lon,lat\n",
    "#location是输入信息\n",
    "location = input(\"输入x和y投影坐标（之间用逗号分隔）：\")\n",
    "#截取lon,lat为经纬度坐标\n",
    "x, y = location.split(',')\n",
    "#格式处理\n",
    "x=eval(x)\n",
    "y=eval(y)\n",
    "#坐标转换\n",
    "lon,lat=WebM_to_WGS84(x,y)\n",
    "#输出坐标\n",
    "print(\"经度:{:.2f},纬度:{:.2f}\".format(lon,lat))"
   ]
  },
  {
   "cell_type": "code",
   "execution_count": 3,
   "metadata": {},
   "outputs": [],
   "source": [
    "from osgeo import gdal\n",
    "import fiona"
   ]
  },
  {
   "cell_type": "code",
   "execution_count": 4,
   "metadata": {},
   "outputs": [],
   "source": [
    "from shapely.geometry import Point"
   ]
  },
  {
   "cell_type": "code",
   "execution_count": null,
   "metadata": {},
   "outputs": [],
   "source": []
  }
 ],
 "metadata": {
  "kernelspec": {
   "name": "python376jvsc74a57bd0a6c8cccf23fc189a51b8b2ae4ca3b98de763e12cce4f9033fe8d82721c91cecc",
   "display_name": "Python 3.7.6 64-bit (conda)"
  },
  "language_info": {
   "codemirror_mode": {
    "name": "ipython",
    "version": 3
   },
   "file_extension": ".py",
   "mimetype": "text/x-python",
   "name": "python",
   "nbconvert_exporter": "python",
   "pygments_lexer": "ipython3",
   "version": "3.7.6-final"
  }
 },
 "nbformat": 4,
 "nbformat_minor": 4
}